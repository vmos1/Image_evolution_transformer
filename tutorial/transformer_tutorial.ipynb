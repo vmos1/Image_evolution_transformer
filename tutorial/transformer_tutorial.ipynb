{
 "cells": [
  {
   "cell_type": "markdown",
   "metadata": {},
   "source": [
    "## Transformer tutorial\n",
    "https://github.com/pytorch/tutorials/blob/master/beginner_source/transformer_tutorial.py"
   ]
  },
  {
   "cell_type": "code",
   "execution_count": 1,
   "metadata": {},
   "outputs": [],
   "source": [
    "import math\n",
    "import torch\n",
    "import torch.nn as nn\n",
    "import torch.nn.functional as F\n",
    "\n",
    "# from torch.nn import TransformerEncoder, TransformerEncoderLayer"
   ]
  },
  {
   "cell_type": "code",
   "execution_count": 2,
   "metadata": {},
   "outputs": [],
   "source": [
    "import io\n",
    "import torch\n",
    "from torchtext.utils import download_from_url, extract_archive\n",
    "from torchtext.data.utils import get_tokenizer\n",
    "from torchtext.vocab import build_vocab_from_iterator\n",
    "\n",
    "import time"
   ]
  },
  {
   "cell_type": "code",
   "execution_count": 3,
   "metadata": {},
   "outputs": [],
   "source": [
    "%matplotlib widget"
   ]
  },
  {
   "cell_type": "code",
   "execution_count": 4,
   "metadata": {},
   "outputs": [],
   "source": [
    "class PositionalEncoding(nn.Module):\n",
    "\n",
    "    def __init__(self, d_model, dropout=0.1, max_len=5000):\n",
    "        super(PositionalEncoding, self).__init__()\n",
    "        self.dropout = nn.Dropout(p=dropout)\n",
    "        \n",
    "        pe = torch.zeros(max_len, d_model)\n",
    "        position = torch.arange(0, max_len, dtype=torch.float).unsqueeze(1)\n",
    "        div_term = torch.exp(torch.arange(0, d_model, 2).float() * (-math.log(10000.0) / d_model))\n",
    "        pe[:, 0::2] = torch.sin(position * div_term)\n",
    "        pe[:, 1::2] = torch.cos(position * div_term)\n",
    "        pe = pe.unsqueeze(0).transpose(0, 1)\n",
    "        self.register_buffer('pe', pe)\n",
    "\n",
    "    def forward(self, x):\n",
    "        x = x + self.pe[:x.size(0), :]\n",
    "        return self.dropout(x)\n",
    "\n",
    "class TransformerModel(nn.Module):\n",
    "\n",
    "    def __init__(self, ntoken, ninp, nhead, nhid, nlayers, dropout=0.5):\n",
    "        super(TransformerModel, self).__init__()\n",
    "        from torch.nn import TransformerEncoder, TransformerEncoderLayer\n",
    "        self.model_type = 'Transformer'\n",
    "        self.pos_encoder = PositionalEncoding(ninp, dropout)\n",
    "        encoder_layers = TransformerEncoderLayer(ninp, nhead, nhid, dropout)\n",
    "        self.transformer_encoder = TransformerEncoder(encoder_layers, nlayers)\n",
    "        self.encoder = nn.Embedding(ntoken, ninp)\n",
    "        self.ninp = ninp\n",
    "        self.decoder = nn.Linear(ninp, ntoken)\n",
    "\n",
    "        self.init_weights()\n",
    "\n",
    "    def generate_square_subsequent_mask(self, sz):\n",
    "        mask = (torch.triu(torch.ones(sz, sz)) == 1).transpose(0, 1)\n",
    "        mask = mask.float().masked_fill(mask == 0, float('-inf')).masked_fill(mask == 1, float(0.0))\n",
    "        return mask\n",
    "\n",
    "    def init_weights(self):\n",
    "        initrange = 0.1\n",
    "        self.encoder.weight.data.uniform_(-initrange, initrange)\n",
    "        self.decoder.bias.data.zero_()\n",
    "        self.decoder.weight.data.uniform_(-initrange, initrange)\n",
    "    \n",
    "    def forward(self, src, src_mask):\n",
    "        src = self.encoder(src) * math.sqrt(self.ninp)\n",
    "        src = self.pos_encoder(src)\n",
    "        output = self.transformer_encoder(src, src_mask)\n",
    "        output = self.decoder(output)\n",
    "        return output\n"
   ]
  },
  {
   "cell_type": "code",
   "execution_count": 5,
   "metadata": {},
   "outputs": [],
   "source": [
    "def data_process(raw_text_iter):\n",
    "    data = [torch.tensor([vocab[token] for token in tokenizer(item)],\n",
    "                       dtype=torch.long) for item in raw_text_iter]\n",
    "    return torch.cat(tuple(filter(lambda t: t.numel() > 0, data)))\n",
    "\n",
    "def batchify(data, bsz):\n",
    "    # Divide the dataset into bsz parts.\n",
    "    nbatch = data.size(0) // bsz\n",
    "    # Trim off any extra elements that wouldn't cleanly fit (remainders).\n",
    "    data = data.narrow(0, 0, nbatch * bsz)\n",
    "    # Evenly divide the data across the bsz batches.\n",
    "    data = data.view(bsz, -1).t().contiguous()\n",
    "    return data.to(device)\n",
    "\n",
    "def get_batch(source, i):\n",
    "    seq_len = min(bptt, len(source) - 1 - i)\n",
    "    data = source[i:i+seq_len]\n",
    "    target = source[i+1:i+1+seq_len].reshape(-1)\n",
    "    return data, target"
   ]
  },
  {
   "cell_type": "code",
   "execution_count": 6,
   "metadata": {},
   "outputs": [
    {
     "name": "stderr",
     "output_type": "stream",
     "text": [
      "36718lines [00:01, 33013.93lines/s]\n"
     ]
    }
   ],
   "source": [
    "url = 'https://s3.amazonaws.com/research.metamind.io/wikitext/wikitext-2-v1.zip'\n",
    "test_filepath, valid_filepath, train_filepath = extract_archive(download_from_url(url))\n",
    "tokenizer = get_tokenizer('basic_english')\n",
    "vocab = build_vocab_from_iterator(map(tokenizer, iter(io.open(train_filepath, encoding=\"utf8\"))))\n"
   ]
  },
  {
   "cell_type": "code",
   "execution_count": 7,
   "metadata": {},
   "outputs": [],
   "source": [
    "train_data = data_process(iter(io.open(train_filepath, encoding=\"utf8\")))\n",
    "val_data = data_process(iter(io.open(valid_filepath, encoding=\"utf8\")))\n",
    "test_data = data_process(iter(io.open(test_filepath, encoding=\"utf8\")))\n",
    "\n",
    "device = torch.device(\"cuda\" if torch.cuda.is_available() else \"cpu\")"
   ]
  },
  {
   "cell_type": "code",
   "execution_count": 8,
   "metadata": {},
   "outputs": [],
   "source": [
    "batch_size = 20\n",
    "eval_batch_size = 10\n",
    "train_data = batchify(train_data, batch_size)\n",
    "val_data = batchify(val_data, eval_batch_size)\n",
    "test_data = batchify(test_data, eval_batch_size)\n",
    "bptt = 35\n"
   ]
  },
  {
   "cell_type": "code",
   "execution_count": 9,
   "metadata": {},
   "outputs": [
    {
     "data": {
      "text/plain": [
       "torch.Size([100, 1, 100])"
      ]
     },
     "execution_count": 9,
     "metadata": {},
     "output_type": "execute_result"
    }
   ],
   "source": [
    "class PositionalEncoding(nn.Module):\n",
    "\n",
    "    def __init__(self, d_model, dropout=0.1, max_len=5000):\n",
    "        super(PositionalEncoding, self).__init__()\n",
    "        self.dropout = nn.Dropout(p=dropout)\n",
    "\n",
    "        pe = torch.zeros(max_len, d_model)\n",
    "        position = torch.arange(0, max_len, dtype=torch.float).unsqueeze(1)\n",
    "        div_term = torch.exp(torch.arange(0, d_model, 2).float() * (-math.log(10000.0) / d_model))\n",
    "        pe[:, 0::2] = torch.sin(position * div_term)\n",
    "        pe[:, 1::2] = torch.cos(position * div_term)\n",
    "        pe = pe.unsqueeze(0).transpose(0, 1)\n",
    "        self.register_buffer('pe', pe)\n",
    "\n",
    "    def forward(self, x):\n",
    "        x = x + self.pe[:x.size(0), :]\n",
    "        return self.dropout(x)\n",
    "    \n",
    "PositionalEncoding(100,0.1)(torch.ones(100)).shape"
   ]
  },
  {
   "cell_type": "code",
   "execution_count": null,
   "metadata": {},
   "outputs": [],
   "source": []
  },
  {
   "cell_type": "code",
   "execution_count": 10,
   "metadata": {},
   "outputs": [
    {
     "data": {
      "text/plain": [
       "'.data/wikitext-2/wiki.test.tokens'"
      ]
     },
     "execution_count": 10,
     "metadata": {},
     "output_type": "execute_result"
    }
   ],
   "source": [
    "test_filepath"
   ]
  },
  {
   "cell_type": "code",
   "execution_count": 11,
   "metadata": {},
   "outputs": [
    {
     "data": {
      "text/plain": [
       "(torch.Size([24185, 10]), torch.Size([21441, 10]))"
      ]
     },
     "execution_count": 11,
     "metadata": {},
     "output_type": "execute_result"
    }
   ],
   "source": [
    "test_data.shape,val_data.shape"
   ]
  },
  {
   "cell_type": "code",
   "execution_count": 12,
   "metadata": {},
   "outputs": [],
   "source": [
    "ntokens = len(vocab.stoi) # the size of vocabulary\n",
    "emsize = 200 # embedding dimension\n",
    "nhid = 200 # the dimension of the feedforward network model in nn.TransformerEncoder\n",
    "nlayers = 2 # the number of nn.TransformerEncoderLayer in nn.TransformerEncoder\n",
    "nhead = 2 # the number of heads in the multiheadattention models\n",
    "dropout = 0.2 # the dropout value\n",
    "model = TransformerModel(ntokens, emsize, nhead, nhid, nlayers, dropout).to(device)\n"
   ]
  },
  {
   "cell_type": "code",
   "execution_count": 13,
   "metadata": {},
   "outputs": [
    {
     "data": {
      "text/plain": [
       "tensor([   10,    60,   565,   224,   444, 13628,     3,   540,  2873,  2465,\n",
       "            0,   314,  4514,     2,     6,    48,    67, 11653,  2436,     2],\n",
       "       device='cuda:0')"
      ]
     },
     "execution_count": 13,
     "metadata": {},
     "output_type": "execute_result"
    }
   ],
   "source": [
    "train_data[0]"
   ]
  },
  {
   "cell_type": "code",
   "execution_count": 14,
   "metadata": {},
   "outputs": [],
   "source": [
    "# model"
   ]
  },
  {
   "cell_type": "code",
   "execution_count": 15,
   "metadata": {},
   "outputs": [],
   "source": [
    "def train():\n",
    "    model.train() # Turn on the train mode\n",
    "    total_loss = 0.\n",
    "    start_time = time.time()\n",
    "    src_mask = model.generate_square_subsequent_mask(bptt).to(device)\n",
    "    for batch, i in enumerate(range(0, train_data.size(0) - 1, bptt)):\n",
    "        data, targets = get_batch(train_data, i)\n",
    "        optimizer.zero_grad()\n",
    "        if data.size(0) != bptt:\n",
    "            src_mask = model.generate_square_subsequent_mask(data.size(0)).to(device)\n",
    "        output = model(data, src_mask)\n",
    "        loss = criterion(output.view(-1, ntokens), targets)\n",
    "        loss.backward()\n",
    "        torch.nn.utils.clip_grad_norm_(model.parameters(), 0.5)\n",
    "        optimizer.step()\n",
    "\n",
    "        total_loss += loss.item()\n",
    "        log_interval = 200\n",
    "        if batch % log_interval == 0 and batch > 0:\n",
    "            cur_loss = total_loss / log_interval\n",
    "            elapsed = time.time() - start_time\n",
    "            print('| epoch {:3d} | {:5d}/{:5d} batches | '\n",
    "                  'lr {:02.2f} | ms/batch {:5.2f} | '\n",
    "                  'loss {:5.2f} | ppl {:8.2f}'.format(\n",
    "                    epoch, batch, len(train_data) // bptt, scheduler.get_lr()[0],\n",
    "                    elapsed * 1000 / log_interval,\n",
    "                    cur_loss, math.exp(cur_loss)))\n",
    "            total_loss = 0\n",
    "            start_time = time.time()\n",
    "\n",
    "def evaluate(eval_model, data_source):\n",
    "    eval_model.eval() # Turn on the evaluation mode\n",
    "    total_loss = 0.\n",
    "    src_mask = model.generate_square_subsequent_mask(bptt).to(device)\n",
    "    with torch.no_grad():\n",
    "        for i in range(0, data_source.size(0) - 1, bptt):\n",
    "            data, targets = get_batch(data_source, i)\n",
    "            if data.size(0) != bptt:\n",
    "                src_mask = model.generate_square_subsequent_mask(data.size(0)).to(device)\n",
    "            output = eval_model(data, src_mask)\n",
    "            output_flat = output.view(-1, ntokens)\n",
    "            total_loss += len(data) * criterion(output_flat, targets).item()\n",
    "    return total_loss / (len(data_source) - 1)\n"
   ]
  },
  {
   "cell_type": "code",
   "execution_count": 16,
   "metadata": {},
   "outputs": [
    {
     "data": {
      "text/plain": [
       "(torch.Size([21441, 10]), torch.Size([24185, 10]), 102499)"
      ]
     },
     "execution_count": 16,
     "metadata": {},
     "output_type": "execute_result"
    }
   ],
   "source": [
    "val_data.size(),test_data.size(),train_data.size(0)"
   ]
  },
  {
   "cell_type": "code",
   "execution_count": 17,
   "metadata": {},
   "outputs": [
    {
     "data": {
      "text/plain": [
       "tensor([   10,    60,   565,   224,   444, 13628,     3,   540,  2873,  2465,\n",
       "            0,   314,  4514,     2,     6,    48,    67, 11653,  2436,     2],\n",
       "       device='cuda:0')"
      ]
     },
     "execution_count": 17,
     "metadata": {},
     "output_type": "execute_result"
    }
   ],
   "source": [
    "train_data[0]"
   ]
  },
  {
   "cell_type": "code",
   "execution_count": 18,
   "metadata": {},
   "outputs": [],
   "source": [
    "criterion = nn.CrossEntropyLoss()\n",
    "lr = 1.0 # learning rate\n",
    "optimizer = torch.optim.SGD(model.parameters(), lr=lr)\n",
    "scheduler = torch.optim.lr_scheduler.StepLR(optimizer, 1.0, gamma=0.95)\n"
   ]
  },
  {
   "cell_type": "code",
   "execution_count": 19,
   "metadata": {},
   "outputs": [
    {
     "name": "stderr",
     "output_type": "stream",
     "text": [
      "/global/homes/v/vpa/.conda/envs/v3/lib/python3.8/site-packages/torch/optim/lr_scheduler.py:369: UserWarning: To get the last learning rate computed by the scheduler, please use `get_last_lr()`.\n",
      "  warnings.warn(\"To get the last learning rate computed by the scheduler, \"\n"
     ]
    },
    {
     "name": "stdout",
     "output_type": "stream",
     "text": [
      "| epoch   1 |   200/ 2928 batches | lr 1.00 | ms/batch 14.61 | loss  7.41 | ppl  1644.72\n",
      "| epoch   1 |   400/ 2928 batches | lr 1.00 | ms/batch  9.12 | loss  6.83 | ppl   929.14\n",
      "| epoch   1 |   600/ 2928 batches | lr 1.00 | ms/batch  9.23 | loss  6.58 | ppl   721.73\n",
      "| epoch   1 |   800/ 2928 batches | lr 1.00 | ms/batch  9.16 | loss  6.49 | ppl   660.95\n",
      "| epoch   1 |  1000/ 2928 batches | lr 1.00 | ms/batch  9.13 | loss  6.39 | ppl   592.92\n",
      "| epoch   1 |  1200/ 2928 batches | lr 1.00 | ms/batch  9.08 | loss  6.35 | ppl   574.23\n",
      "| epoch   1 |  1400/ 2928 batches | lr 1.00 | ms/batch  9.08 | loss  6.27 | ppl   528.82\n",
      "| epoch   1 |  1600/ 2928 batches | lr 1.00 | ms/batch  9.12 | loss  6.26 | ppl   522.61\n",
      "| epoch   1 |  1800/ 2928 batches | lr 1.00 | ms/batch  9.16 | loss  6.17 | ppl   477.83\n",
      "| epoch   1 |  2000/ 2928 batches | lr 1.00 | ms/batch  9.18 | loss  6.15 | ppl   470.08\n",
      "| epoch   1 |  2200/ 2928 batches | lr 1.00 | ms/batch  9.20 | loss  6.02 | ppl   413.55\n",
      "| epoch   1 |  2400/ 2928 batches | lr 1.00 | ms/batch  9.36 | loss  6.07 | ppl   433.63\n",
      "| epoch   1 |  2600/ 2928 batches | lr 1.00 | ms/batch  9.48 | loss  6.05 | ppl   422.86\n",
      "| epoch   1 |  2800/ 2928 batches | lr 1.00 | ms/batch  9.95 | loss  5.98 | ppl   395.25\n",
      "-----------------------------------------------------------------------------------------\n",
      "| end of epoch   1 | time: 29.72s | valid loss  5.85 | valid ppl   346.10\n",
      "-----------------------------------------------------------------------------------------\n",
      "| epoch   2 |   200/ 2928 batches | lr 0.90 | ms/batch  9.48 | loss  5.95 | ppl   383.26\n",
      "| epoch   2 |   400/ 2928 batches | lr 0.90 | ms/batch  9.17 | loss  5.95 | ppl   382.26\n",
      "| epoch   2 |   600/ 2928 batches | lr 0.90 | ms/batch  9.18 | loss  5.81 | ppl   332.49\n",
      "| epoch   2 |   800/ 2928 batches | lr 0.90 | ms/batch  9.72 | loss  5.84 | ppl   343.43\n",
      "| epoch   2 |  1000/ 2928 batches | lr 0.90 | ms/batch  9.72 | loss  5.78 | ppl   325.20\n",
      "| epoch   2 |  1200/ 2928 batches | lr 0.90 | ms/batch  9.15 | loss  5.81 | ppl   334.77\n",
      "| epoch   2 |  1400/ 2928 batches | lr 0.90 | ms/batch  9.30 | loss  5.79 | ppl   328.07\n",
      "| epoch   2 |  1600/ 2928 batches | lr 0.90 | ms/batch  9.08 | loss  5.82 | ppl   336.71\n",
      "| epoch   2 |  1800/ 2928 batches | lr 0.90 | ms/batch  9.17 | loss  5.75 | ppl   314.08\n",
      "| epoch   2 |  2000/ 2928 batches | lr 0.90 | ms/batch  9.25 | loss  5.77 | ppl   319.35\n",
      "| epoch   2 |  2200/ 2928 batches | lr 0.90 | ms/batch  9.29 | loss  5.64 | ppl   282.14\n",
      "| epoch   2 |  2400/ 2928 batches | lr 0.90 | ms/batch  9.14 | loss  5.72 | ppl   305.44\n",
      "| epoch   2 |  2600/ 2928 batches | lr 0.90 | ms/batch  9.15 | loss  5.72 | ppl   305.14\n",
      "| epoch   2 |  2800/ 2928 batches | lr 0.90 | ms/batch  9.09 | loss  5.65 | ppl   285.64\n",
      "-----------------------------------------------------------------------------------------\n",
      "| end of epoch   2 | time: 28.68s | valid loss  5.61 | valid ppl   274.23\n",
      "-----------------------------------------------------------------------------------------\n",
      "| epoch   3 |   200/ 2928 batches | lr 0.86 | ms/batch  9.51 | loss  5.67 | ppl   289.58\n",
      "| epoch   3 |   400/ 2928 batches | lr 0.86 | ms/batch  9.23 | loss  5.69 | ppl   297.24\n",
      "| epoch   3 |   600/ 2928 batches | lr 0.86 | ms/batch  9.14 | loss  5.53 | ppl   252.48\n",
      "| epoch   3 |   800/ 2928 batches | lr 0.86 | ms/batch  9.16 | loss  5.58 | ppl   265.63\n",
      "| epoch   3 |  1000/ 2928 batches | lr 0.86 | ms/batch  9.15 | loss  5.53 | ppl   252.76\n",
      "| epoch   3 |  1200/ 2928 batches | lr 0.86 | ms/batch  9.17 | loss  5.57 | ppl   263.38\n",
      "| epoch   3 |  1400/ 2928 batches | lr 0.86 | ms/batch  9.14 | loss  5.57 | ppl   262.41\n",
      "| epoch   3 |  1600/ 2928 batches | lr 0.86 | ms/batch  9.06 | loss  5.59 | ppl   268.22\n",
      "| epoch   3 |  1800/ 2928 batches | lr 0.86 | ms/batch  9.16 | loss  5.53 | ppl   252.34\n",
      "| epoch   3 |  2000/ 2928 batches | lr 0.86 | ms/batch  9.22 | loss  5.55 | ppl   257.89\n",
      "| epoch   3 |  2200/ 2928 batches | lr 0.86 | ms/batch  9.20 | loss  5.43 | ppl   227.36\n",
      "| epoch   3 |  2400/ 2928 batches | lr 0.86 | ms/batch  9.15 | loss  5.52 | ppl   249.18\n",
      "| epoch   3 |  2600/ 2928 batches | lr 0.86 | ms/batch  9.11 | loss  5.52 | ppl   250.08\n",
      "| epoch   3 |  2800/ 2928 batches | lr 0.86 | ms/batch  9.10 | loss  5.45 | ppl   232.98\n",
      "-----------------------------------------------------------------------------------------\n",
      "| end of epoch   3 | time: 28.37s | valid loss  5.48 | valid ppl   240.24\n",
      "-----------------------------------------------------------------------------------------\n",
      "| epoch   4 |   200/ 2928 batches | lr 0.81 | ms/batch  9.41 | loss  5.48 | ppl   239.68\n",
      "| epoch   4 |   400/ 2928 batches | lr 0.81 | ms/batch  9.27 | loss  5.52 | ppl   250.43\n",
      "| epoch   4 |   600/ 2928 batches | lr 0.81 | ms/batch  9.14 | loss  5.34 | ppl   209.25\n",
      "| epoch   4 |   800/ 2928 batches | lr 0.81 | ms/batch  9.13 | loss  5.40 | ppl   221.93\n",
      "| epoch   4 |  1000/ 2928 batches | lr 0.81 | ms/batch  9.13 | loss  5.35 | ppl   211.65\n",
      "| epoch   4 |  1200/ 2928 batches | lr 0.81 | ms/batch  9.21 | loss  5.41 | ppl   222.54\n",
      "| epoch   4 |  1400/ 2928 batches | lr 0.81 | ms/batch  9.18 | loss  5.41 | ppl   222.75\n",
      "| epoch   4 |  1600/ 2928 batches | lr 0.81 | ms/batch  9.10 | loss  5.44 | ppl   229.70\n",
      "| epoch   4 |  1800/ 2928 batches | lr 0.81 | ms/batch  9.36 | loss  5.38 | ppl   216.29\n",
      "| epoch   4 |  2000/ 2928 batches | lr 0.81 | ms/batch  9.12 | loss  5.40 | ppl   220.63\n",
      "| epoch   4 |  2200/ 2928 batches | lr 0.81 | ms/batch  9.07 | loss  5.26 | ppl   192.84\n",
      "| epoch   4 |  2400/ 2928 batches | lr 0.81 | ms/batch  9.10 | loss  5.37 | ppl   214.76\n",
      "| epoch   4 |  2600/ 2928 batches | lr 0.81 | ms/batch  9.10 | loss  5.37 | ppl   215.69\n",
      "| epoch   4 |  2800/ 2928 batches | lr 0.81 | ms/batch  9.07 | loss  5.30 | ppl   200.03\n",
      "-----------------------------------------------------------------------------------------\n",
      "| end of epoch   4 | time: 28.33s | valid loss  5.41 | valid ppl   222.57\n",
      "-----------------------------------------------------------------------------------------\n",
      "| epoch   5 |   200/ 2928 batches | lr 0.77 | ms/batch  9.37 | loss  5.34 | ppl   208.61\n",
      "| epoch   5 |   400/ 2928 batches | lr 0.77 | ms/batch  9.19 | loss  5.39 | ppl   219.33\n",
      "| epoch   5 |   600/ 2928 batches | lr 0.77 | ms/batch  9.17 | loss  5.20 | ppl   181.38\n",
      "| epoch   5 |   800/ 2928 batches | lr 0.77 | ms/batch  9.29 | loss  5.27 | ppl   194.59\n",
      "| epoch   5 |  1000/ 2928 batches | lr 0.77 | ms/batch  9.16 | loss  5.22 | ppl   184.53\n",
      "| epoch   5 |  1200/ 2928 batches | lr 0.77 | ms/batch  9.13 | loss  5.27 | ppl   194.60\n",
      "| epoch   5 |  1400/ 2928 batches | lr 0.77 | ms/batch  9.09 | loss  5.28 | ppl   196.48\n",
      "| epoch   5 |  1600/ 2928 batches | lr 0.77 | ms/batch  9.30 | loss  5.31 | ppl   203.14\n",
      "| epoch   5 |  1800/ 2928 batches | lr 0.77 | ms/batch  9.10 | loss  5.25 | ppl   191.22\n",
      "| epoch   5 |  2000/ 2928 batches | lr 0.77 | ms/batch  9.11 | loss  5.27 | ppl   194.69\n",
      "| epoch   5 |  2200/ 2928 batches | lr 0.77 | ms/batch  9.07 | loss  5.13 | ppl   169.74\n",
      "| epoch   5 |  2400/ 2928 batches | lr 0.77 | ms/batch  9.12 | loss  5.24 | ppl   189.49\n",
      "| epoch   5 |  2600/ 2928 batches | lr 0.77 | ms/batch  9.15 | loss  5.26 | ppl   191.72\n",
      "| epoch   5 |  2800/ 2928 batches | lr 0.77 | ms/batch  9.16 | loss  5.18 | ppl   177.32\n",
      "-----------------------------------------------------------------------------------------\n",
      "| end of epoch   5 | time: 28.39s | valid loss  5.35 | valid ppl   211.47\n",
      "-----------------------------------------------------------------------------------------\n",
      "| epoch   6 |   200/ 2928 batches | lr 0.74 | ms/batch  9.42 | loss  5.23 | ppl   186.99\n",
      "| epoch   6 |   400/ 2928 batches | lr 0.74 | ms/batch  9.09 | loss  5.28 | ppl   195.53\n",
      "| epoch   6 |   600/ 2928 batches | lr 0.74 | ms/batch  9.13 | loss  5.08 | ppl   161.49\n",
      "| epoch   6 |   800/ 2928 batches | lr 0.74 | ms/batch  9.14 | loss  5.16 | ppl   174.87\n",
      "| epoch   6 |  1000/ 2928 batches | lr 0.74 | ms/batch  9.15 | loss  5.11 | ppl   165.17\n",
      "| epoch   6 |  1200/ 2928 batches | lr 0.74 | ms/batch  9.13 | loss  5.16 | ppl   174.92\n",
      "| epoch   6 |  1400/ 2928 batches | lr 0.74 | ms/batch  9.31 | loss  5.18 | ppl   177.42\n",
      "| epoch   6 |  1600/ 2928 batches | lr 0.74 | ms/batch  9.29 | loss  5.21 | ppl   182.96\n",
      "| epoch   6 |  1800/ 2928 batches | lr 0.74 | ms/batch  9.11 | loss  5.16 | ppl   173.59\n",
      "| epoch   6 |  2000/ 2928 batches | lr 0.74 | ms/batch  9.13 | loss  5.17 | ppl   175.71\n",
      "| epoch   6 |  2200/ 2928 batches | lr 0.74 | ms/batch  9.08 | loss  5.03 | ppl   153.00\n",
      "| epoch   6 |  2400/ 2928 batches | lr 0.74 | ms/batch  9.13 | loss  5.15 | ppl   172.13\n",
      "| epoch   6 |  2600/ 2928 batches | lr 0.74 | ms/batch  9.09 | loss  5.15 | ppl   173.08\n",
      "| epoch   6 |  2800/ 2928 batches | lr 0.74 | ms/batch  9.22 | loss  5.08 | ppl   160.52\n",
      "-----------------------------------------------------------------------------------------\n",
      "| end of epoch   6 | time: 28.35s | valid loss  5.31 | valid ppl   203.31\n",
      "-----------------------------------------------------------------------------------------\n",
      "| epoch   7 |   200/ 2928 batches | lr 0.70 | ms/batch  9.40 | loss  5.14 | ppl   170.06\n",
      "| epoch   7 |   400/ 2928 batches | lr 0.70 | ms/batch  9.08 | loss  5.19 | ppl   178.58\n",
      "| epoch   7 |   600/ 2928 batches | lr 0.70 | ms/batch  9.12 | loss  4.99 | ppl   146.82\n",
      "| epoch   7 |   800/ 2928 batches | lr 0.70 | ms/batch  9.24 | loss  5.07 | ppl   159.75\n",
      "| epoch   7 |  1000/ 2928 batches | lr 0.70 | ms/batch  9.22 | loss  5.02 | ppl   150.82\n",
      "| epoch   7 |  1200/ 2928 batches | lr 0.70 | ms/batch  9.48 | loss  5.07 | ppl   159.57\n",
      "| epoch   7 |  1400/ 2928 batches | lr 0.70 | ms/batch  9.19 | loss  5.09 | ppl   162.15\n",
      "| epoch   7 |  1600/ 2928 batches | lr 0.70 | ms/batch  9.10 | loss  5.13 | ppl   169.25\n",
      "| epoch   7 |  1800/ 2928 batches | lr 0.70 | ms/batch  9.09 | loss  5.07 | ppl   159.54\n",
      "| epoch   7 |  2000/ 2928 batches | lr 0.70 | ms/batch  9.12 | loss  5.08 | ppl   161.35\n",
      "| epoch   7 |  2200/ 2928 batches | lr 0.70 | ms/batch  9.07 | loss  4.94 | ppl   139.30\n",
      "| epoch   7 |  2400/ 2928 batches | lr 0.70 | ms/batch  9.17 | loss  5.06 | ppl   157.61\n",
      "| epoch   7 |  2600/ 2928 batches | lr 0.70 | ms/batch  9.09 | loss  5.08 | ppl   160.01\n",
      "| epoch   7 |  2800/ 2928 batches | lr 0.70 | ms/batch  9.15 | loss  4.99 | ppl   147.39\n",
      "-----------------------------------------------------------------------------------------\n",
      "| end of epoch   7 | time: 28.38s | valid loss  5.28 | valid ppl   195.49\n",
      "-----------------------------------------------------------------------------------------\n",
      "| epoch   8 |   200/ 2928 batches | lr 0.66 | ms/batch  9.39 | loss  5.05 | ppl   156.69\n",
      "| epoch   8 |   400/ 2928 batches | lr 0.66 | ms/batch  9.08 | loss  5.10 | ppl   164.27\n",
      "| epoch   8 |   600/ 2928 batches | lr 0.66 | ms/batch  9.15 | loss  4.91 | ppl   135.80\n",
      "| epoch   8 |   800/ 2928 batches | lr 0.66 | ms/batch  9.13 | loss  4.99 | ppl   147.40\n",
      "| epoch   8 |  1000/ 2928 batches | lr 0.66 | ms/batch  9.19 | loss  4.94 | ppl   139.53\n",
      "| epoch   8 |  1200/ 2928 batches | lr 0.66 | ms/batch  9.15 | loss  5.00 | ppl   147.95\n",
      "| epoch   8 |  1400/ 2928 batches | lr 0.66 | ms/batch  9.12 | loss  5.01 | ppl   149.94\n",
      "| epoch   8 |  1600/ 2928 batches | lr 0.66 | ms/batch  9.13 | loss  5.05 | ppl   156.68\n",
      "| epoch   8 |  1800/ 2928 batches | lr 0.66 | ms/batch  9.23 | loss  5.00 | ppl   148.70\n",
      "| epoch   8 |  2000/ 2928 batches | lr 0.66 | ms/batch  9.14 | loss  5.01 | ppl   150.07\n",
      "| epoch   8 |  2200/ 2928 batches | lr 0.66 | ms/batch  9.10 | loss  4.86 | ppl   129.07\n",
      "| epoch   8 |  2400/ 2928 batches | lr 0.66 | ms/batch  9.12 | loss  4.99 | ppl   146.50\n",
      "| epoch   8 |  2600/ 2928 batches | lr 0.66 | ms/batch  9.07 | loss  5.00 | ppl   148.15\n",
      "| epoch   8 |  2800/ 2928 batches | lr 0.66 | ms/batch  9.04 | loss  4.92 | ppl   137.40\n",
      "-----------------------------------------------------------------------------------------\n",
      "| end of epoch   8 | time: 28.29s | valid loss  5.25 | valid ppl   191.41\n",
      "-----------------------------------------------------------------------------------------\n",
      "| epoch   9 |   200/ 2928 batches | lr 0.63 | ms/batch  9.51 | loss  4.99 | ppl   146.59\n",
      "| epoch   9 |   400/ 2928 batches | lr 0.63 | ms/batch  9.15 | loss  5.03 | ppl   153.55\n",
      "| epoch   9 |   600/ 2928 batches | lr 0.63 | ms/batch  9.11 | loss  4.84 | ppl   126.79\n",
      "| epoch   9 |   800/ 2928 batches | lr 0.63 | ms/batch  9.22 | loss  4.93 | ppl   138.22\n",
      "| epoch   9 |  1000/ 2928 batches | lr 0.63 | ms/batch  9.19 | loss  4.87 | ppl   130.55\n",
      "| epoch   9 |  1200/ 2928 batches | lr 0.63 | ms/batch  9.29 | loss  4.93 | ppl   139.04\n",
      "| epoch   9 |  1400/ 2928 batches | lr 0.63 | ms/batch  9.18 | loss  4.94 | ppl   140.44\n",
      "| epoch   9 |  1600/ 2928 batches | lr 0.63 | ms/batch  9.18 | loss  4.99 | ppl   147.21\n",
      "| epoch   9 |  1800/ 2928 batches | lr 0.63 | ms/batch  9.06 | loss  4.94 | ppl   139.22\n",
      "| epoch   9 |  2000/ 2928 batches | lr 0.63 | ms/batch  9.12 | loss  4.94 | ppl   140.41\n",
      "| epoch   9 |  2200/ 2928 batches | lr 0.63 | ms/batch  9.11 | loss  4.80 | ppl   120.93\n",
      "| epoch   9 |  2400/ 2928 batches | lr 0.63 | ms/batch  9.15 | loss  4.92 | ppl   137.32\n",
      "| epoch   9 |  2600/ 2928 batches | lr 0.63 | ms/batch  9.09 | loss  4.94 | ppl   139.16\n",
      "| epoch   9 |  2800/ 2928 batches | lr 0.63 | ms/batch  9.11 | loss  4.86 | ppl   128.59\n",
      "-----------------------------------------------------------------------------------------\n",
      "| end of epoch   9 | time: 28.36s | valid loss  5.24 | valid ppl   187.73\n",
      "-----------------------------------------------------------------------------------------\n",
      "| epoch  10 |   200/ 2928 batches | lr 0.60 | ms/batch  9.51 | loss  4.92 | ppl   137.34\n",
      "| epoch  10 |   400/ 2928 batches | lr 0.60 | ms/batch  9.15 | loss  4.97 | ppl   143.63\n",
      "| epoch  10 |   600/ 2928 batches | lr 0.60 | ms/batch  9.26 | loss  4.78 | ppl   118.87\n",
      "| epoch  10 |   800/ 2928 batches | lr 0.60 | ms/batch  9.26 | loss  4.87 | ppl   129.94\n",
      "| epoch  10 |  1000/ 2928 batches | lr 0.60 | ms/batch  9.17 | loss  4.81 | ppl   122.75\n",
      "| epoch  10 |  1200/ 2928 batches | lr 0.60 | ms/batch  9.14 | loss  4.88 | ppl   131.10\n",
      "| epoch  10 |  1400/ 2928 batches | lr 0.60 | ms/batch  9.13 | loss  4.89 | ppl   132.39\n",
      "| epoch  10 |  1600/ 2928 batches | lr 0.60 | ms/batch  9.10 | loss  4.94 | ppl   139.20\n",
      "| epoch  10 |  1800/ 2928 batches | lr 0.60 | ms/batch  9.11 | loss  4.88 | ppl   131.90\n",
      "| epoch  10 |  2000/ 2928 batches | lr 0.60 | ms/batch  9.08 | loss  4.89 | ppl   133.14\n",
      "| epoch  10 |  2200/ 2928 batches | lr 0.60 | ms/batch  9.18 | loss  4.74 | ppl   114.25\n",
      "| epoch  10 |  2400/ 2928 batches | lr 0.60 | ms/batch  9.19 | loss  4.86 | ppl   129.58\n",
      "| epoch  10 |  2600/ 2928 batches | lr 0.60 | ms/batch  9.12 | loss  4.88 | ppl   131.42\n",
      "| epoch  10 |  2800/ 2928 batches | lr 0.60 | ms/batch  9.12 | loss  4.80 | ppl   121.38\n",
      "-----------------------------------------------------------------------------------------\n",
      "| end of epoch  10 | time: 28.35s | valid loss  5.22 | valid ppl   185.71\n",
      "-----------------------------------------------------------------------------------------\n",
      "| epoch  11 |   200/ 2928 batches | lr 0.57 | ms/batch  9.41 | loss  4.87 | ppl   130.42\n",
      "| epoch  11 |   400/ 2928 batches | lr 0.57 | ms/batch  9.21 | loss  4.92 | ppl   136.47\n",
      "| epoch  11 |   600/ 2928 batches | lr 0.57 | ms/batch  9.22 | loss  4.72 | ppl   112.42\n",
      "| epoch  11 |   800/ 2928 batches | lr 0.57 | ms/batch  9.26 | loss  4.81 | ppl   122.97\n",
      "| epoch  11 |  1000/ 2928 batches | lr 0.57 | ms/batch  9.14 | loss  4.76 | ppl   116.40\n",
      "| epoch  11 |  1200/ 2928 batches | lr 0.57 | ms/batch  9.17 | loss  4.82 | ppl   124.08\n",
      "| epoch  11 |  1400/ 2928 batches | lr 0.57 | ms/batch  9.25 | loss  4.83 | ppl   125.79\n",
      "| epoch  11 |  1600/ 2928 batches | lr 0.57 | ms/batch  9.26 | loss  4.88 | ppl   131.90\n",
      "| epoch  11 |  1800/ 2928 batches | lr 0.57 | ms/batch  9.16 | loss  4.83 | ppl   125.46\n",
      "| epoch  11 |  2000/ 2928 batches | lr 0.57 | ms/batch  9.20 | loss  4.84 | ppl   126.02\n",
      "| epoch  11 |  2200/ 2928 batches | lr 0.57 | ms/batch  9.12 | loss  4.69 | ppl   108.44\n",
      "| epoch  11 |  2400/ 2928 batches | lr 0.57 | ms/batch  9.09 | loss  4.81 | ppl   122.90\n",
      "| epoch  11 |  2600/ 2928 batches | lr 0.57 | ms/batch  9.11 | loss  4.83 | ppl   125.10\n",
      "| epoch  11 |  2800/ 2928 batches | lr 0.57 | ms/batch  9.10 | loss  4.75 | ppl   115.53\n",
      "-----------------------------------------------------------------------------------------\n",
      "| end of epoch  11 | time: 28.42s | valid loss  5.22 | valid ppl   185.19\n",
      "-----------------------------------------------------------------------------------------\n",
      "| epoch  12 |   200/ 2928 batches | lr 0.54 | ms/batch  9.52 | loss  4.82 | ppl   124.29\n",
      "| epoch  12 |   400/ 2928 batches | lr 0.54 | ms/batch  9.22 | loss  4.86 | ppl   129.60\n",
      "| epoch  12 |   600/ 2928 batches | lr 0.54 | ms/batch  9.10 | loss  4.68 | ppl   107.68\n",
      "| epoch  12 |   800/ 2928 batches | lr 0.54 | ms/batch  9.07 | loss  4.77 | ppl   117.55\n",
      "| epoch  12 |  1000/ 2928 batches | lr 0.54 | ms/batch  9.10 | loss  4.71 | ppl   110.86\n",
      "| epoch  12 |  1200/ 2928 batches | lr 0.54 | ms/batch  9.06 | loss  4.77 | ppl   118.32\n",
      "| epoch  12 |  1400/ 2928 batches | lr 0.54 | ms/batch  9.18 | loss  4.79 | ppl   120.19\n",
      "| epoch  12 |  1600/ 2928 batches | lr 0.54 | ms/batch  9.11 | loss  4.84 | ppl   125.87\n",
      "| epoch  12 |  1800/ 2928 batches | lr 0.54 | ms/batch  9.16 | loss  4.78 | ppl   119.60\n",
      "| epoch  12 |  2000/ 2928 batches | lr 0.54 | ms/batch  9.17 | loss  4.79 | ppl   120.61\n",
      "| epoch  12 |  2200/ 2928 batches | lr 0.54 | ms/batch  9.19 | loss  4.64 | ppl   103.25\n",
      "| epoch  12 |  2400/ 2928 batches | lr 0.54 | ms/batch  9.10 | loss  4.77 | ppl   117.41\n",
      "| epoch  12 |  2600/ 2928 batches | lr 0.54 | ms/batch  9.23 | loss  4.78 | ppl   119.27\n",
      "| epoch  12 |  2800/ 2928 batches | lr 0.54 | ms/batch  9.22 | loss  4.70 | ppl   110.30\n",
      "-----------------------------------------------------------------------------------------\n",
      "| end of epoch  12 | time: 28.39s | valid loss  5.21 | valid ppl   183.38\n",
      "-----------------------------------------------------------------------------------------\n",
      "| epoch  13 |   200/ 2928 batches | lr 0.51 | ms/batch  9.47 | loss  4.78 | ppl   118.96\n",
      "| epoch  13 |   400/ 2928 batches | lr 0.51 | ms/batch  9.13 | loss  4.82 | ppl   123.84\n",
      "| epoch  13 |   600/ 2928 batches | lr 0.51 | ms/batch  9.09 | loss  4.63 | ppl   102.76\n",
      "| epoch  13 |   800/ 2928 batches | lr 0.51 | ms/batch  9.21 | loss  4.72 | ppl   112.42\n",
      "| epoch  13 |  1000/ 2928 batches | lr 0.51 | ms/batch  9.16 | loss  4.67 | ppl   106.37\n",
      "| epoch  13 |  1200/ 2928 batches | lr 0.51 | ms/batch  9.14 | loss  4.73 | ppl   113.71\n",
      "| epoch  13 |  1400/ 2928 batches | lr 0.51 | ms/batch  9.10 | loss  4.74 | ppl   114.73\n",
      "| epoch  13 |  1600/ 2928 batches | lr 0.51 | ms/batch  9.15 | loss  4.80 | ppl   121.38\n",
      "| epoch  13 |  1800/ 2928 batches | lr 0.51 | ms/batch  9.25 | loss  4.75 | ppl   115.28\n",
      "| epoch  13 |  2000/ 2928 batches | lr 0.51 | ms/batch  9.19 | loss  4.75 | ppl   116.06\n",
      "| epoch  13 |  2200/ 2928 batches | lr 0.51 | ms/batch  9.19 | loss  4.60 | ppl    98.99\n",
      "| epoch  13 |  2400/ 2928 batches | lr 0.51 | ms/batch  9.10 | loss  4.73 | ppl   112.78\n",
      "| epoch  13 |  2600/ 2928 batches | lr 0.51 | ms/batch  9.22 | loss  4.74 | ppl   114.48\n",
      "| epoch  13 |  2800/ 2928 batches | lr 0.51 | ms/batch  9.10 | loss  4.67 | ppl   106.24\n",
      "-----------------------------------------------------------------------------------------\n",
      "| end of epoch  13 | time: 28.41s | valid loss  5.20 | valid ppl   181.87\n",
      "-----------------------------------------------------------------------------------------\n",
      "| epoch  14 |   200/ 2928 batches | lr 0.49 | ms/batch  9.45 | loss  4.74 | ppl   114.22\n",
      "| epoch  14 |   400/ 2928 batches | lr 0.49 | ms/batch  9.17 | loss  4.78 | ppl   118.71\n",
      "| epoch  14 |   600/ 2928 batches | lr 0.49 | ms/batch  9.06 | loss  4.59 | ppl    98.56\n",
      "| epoch  14 |   800/ 2928 batches | lr 0.49 | ms/batch  9.15 | loss  4.68 | ppl   107.75\n",
      "| epoch  14 |  1000/ 2928 batches | lr 0.49 | ms/batch  9.18 | loss  4.63 | ppl   102.32\n",
      "| epoch  14 |  1200/ 2928 batches | lr 0.49 | ms/batch  9.18 | loss  4.70 | ppl   109.79\n",
      "| epoch  14 |  1400/ 2928 batches | lr 0.49 | ms/batch  9.09 | loss  4.70 | ppl   110.41\n",
      "| epoch  14 |  1600/ 2928 batches | lr 0.49 | ms/batch  9.10 | loss  4.76 | ppl   116.64\n",
      "| epoch  14 |  1800/ 2928 batches | lr 0.49 | ms/batch  9.10 | loss  4.71 | ppl   110.67\n",
      "| epoch  14 |  2000/ 2928 batches | lr 0.49 | ms/batch  9.20 | loss  4.71 | ppl   111.40\n",
      "| epoch  14 |  2200/ 2928 batches | lr 0.49 | ms/batch  9.14 | loss  4.56 | ppl    95.16\n",
      "| epoch  14 |  2400/ 2928 batches | lr 0.49 | ms/batch  9.17 | loss  4.69 | ppl   108.72\n",
      "| epoch  14 |  2600/ 2928 batches | lr 0.49 | ms/batch  9.28 | loss  4.70 | ppl   110.35\n",
      "| epoch  14 |  2800/ 2928 batches | lr 0.49 | ms/batch  9.32 | loss  4.62 | ppl   101.98\n",
      "-----------------------------------------------------------------------------------------\n",
      "| end of epoch  14 | time: 28.42s | valid loss  5.20 | valid ppl   181.45\n",
      "-----------------------------------------------------------------------------------------\n",
      "| epoch  15 |   200/ 2928 batches | lr 0.46 | ms/batch  9.37 | loss  4.70 | ppl   110.41\n",
      "| epoch  15 |   400/ 2928 batches | lr 0.46 | ms/batch  9.12 | loss  4.74 | ppl   114.93\n",
      "| epoch  15 |   600/ 2928 batches | lr 0.46 | ms/batch  9.08 | loss  4.56 | ppl    95.52\n",
      "| epoch  15 |   800/ 2928 batches | lr 0.46 | ms/batch  9.20 | loss  4.65 | ppl   104.29\n",
      "| epoch  15 |  1000/ 2928 batches | lr 0.46 | ms/batch  9.11 | loss  4.59 | ppl    98.94\n",
      "| epoch  15 |  1200/ 2928 batches | lr 0.46 | ms/batch  9.20 | loss  4.66 | ppl   105.88\n",
      "| epoch  15 |  1400/ 2928 batches | lr 0.46 | ms/batch  9.04 | loss  4.67 | ppl   106.76\n",
      "| epoch  15 |  1600/ 2928 batches | lr 0.46 | ms/batch  9.15 | loss  4.72 | ppl   112.09\n",
      "| epoch  15 |  1800/ 2928 batches | lr 0.46 | ms/batch  9.06 | loss  4.67 | ppl   107.16\n",
      "| epoch  15 |  2000/ 2928 batches | lr 0.46 | ms/batch  9.11 | loss  4.68 | ppl   107.45\n",
      "| epoch  15 |  2200/ 2928 batches | lr 0.46 | ms/batch  9.25 | loss  4.52 | ppl    91.99\n",
      "| epoch  15 |  2400/ 2928 batches | lr 0.46 | ms/batch  9.25 | loss  4.65 | ppl   104.40\n",
      "| epoch  15 |  2600/ 2928 batches | lr 0.46 | ms/batch  9.29 | loss  4.67 | ppl   106.27\n",
      "| epoch  15 |  2800/ 2928 batches | lr 0.46 | ms/batch  9.08 | loss  4.59 | ppl    98.44\n",
      "-----------------------------------------------------------------------------------------\n",
      "| end of epoch  15 | time: 28.34s | valid loss  5.19 | valid ppl   179.22\n",
      "-----------------------------------------------------------------------------------------\n",
      "| epoch  16 |   200/ 2928 batches | lr 0.44 | ms/batch  9.46 | loss  4.67 | ppl   106.70\n",
      "| epoch  16 |   400/ 2928 batches | lr 0.44 | ms/batch  9.07 | loss  4.71 | ppl   110.77\n",
      "| epoch  16 |   600/ 2928 batches | lr 0.44 | ms/batch  9.05 | loss  4.52 | ppl    92.03\n",
      "| epoch  16 |   800/ 2928 batches | lr 0.44 | ms/batch  9.11 | loss  4.61 | ppl   100.68\n",
      "| epoch  16 |  1000/ 2928 batches | lr 0.44 | ms/batch  9.07 | loss  4.56 | ppl    95.89\n",
      "| epoch  16 |  1200/ 2928 batches | lr 0.44 | ms/batch  9.18 | loss  4.63 | ppl   102.36\n",
      "| epoch  16 |  1400/ 2928 batches | lr 0.44 | ms/batch  9.17 | loss  4.64 | ppl   103.49\n",
      "| epoch  16 |  1600/ 2928 batches | lr 0.44 | ms/batch  9.09 | loss  4.69 | ppl   108.94\n",
      "| epoch  16 |  1800/ 2928 batches | lr 0.44 | ms/batch  9.14 | loss  4.64 | ppl   103.68\n",
      "| epoch  16 |  2000/ 2928 batches | lr 0.44 | ms/batch  9.14 | loss  4.65 | ppl   104.24\n",
      "| epoch  16 |  2200/ 2928 batches | lr 0.44 | ms/batch  9.07 | loss  4.49 | ppl    89.12\n",
      "| epoch  16 |  2400/ 2928 batches | lr 0.44 | ms/batch  9.17 | loss  4.62 | ppl   101.60\n",
      "| epoch  16 |  2600/ 2928 batches | lr 0.44 | ms/batch  9.09 | loss  4.64 | ppl   103.36\n",
      "| epoch  16 |  2800/ 2928 batches | lr 0.44 | ms/batch  9.11 | loss  4.56 | ppl    95.79\n",
      "-----------------------------------------------------------------------------------------\n",
      "| end of epoch  16 | time: 28.25s | valid loss  5.19 | valid ppl   178.97\n",
      "-----------------------------------------------------------------------------------------\n",
      "| epoch  17 |   200/ 2928 batches | lr 0.42 | ms/batch  9.51 | loss  4.64 | ppl   103.20\n",
      "| epoch  17 |   400/ 2928 batches | lr 0.42 | ms/batch  9.16 | loss  4.67 | ppl   107.06\n",
      "| epoch  17 |   600/ 2928 batches | lr 0.42 | ms/batch  9.17 | loss  4.49 | ppl    89.51\n",
      "| epoch  17 |   800/ 2928 batches | lr 0.42 | ms/batch  9.20 | loss  4.58 | ppl    97.50\n",
      "| epoch  17 |  1000/ 2928 batches | lr 0.42 | ms/batch  9.19 | loss  4.53 | ppl    92.75\n",
      "| epoch  17 |  1200/ 2928 batches | lr 0.42 | ms/batch  9.13 | loss  4.60 | ppl    99.46\n",
      "| epoch  17 |  1400/ 2928 batches | lr 0.42 | ms/batch  9.13 | loss  4.60 | ppl    99.95\n",
      "| epoch  17 |  1600/ 2928 batches | lr 0.42 | ms/batch  9.23 | loss  4.66 | ppl   105.61\n",
      "| epoch  17 |  1800/ 2928 batches | lr 0.42 | ms/batch  9.09 | loss  4.61 | ppl   100.59\n",
      "| epoch  17 |  2000/ 2928 batches | lr 0.42 | ms/batch  9.09 | loss  4.62 | ppl   101.18\n",
      "| epoch  17 |  2200/ 2928 batches | lr 0.42 | ms/batch  9.28 | loss  4.46 | ppl    86.57\n",
      "| epoch  17 |  2400/ 2928 batches | lr 0.42 | ms/batch  9.31 | loss  4.59 | ppl    98.53\n",
      "| epoch  17 |  2600/ 2928 batches | lr 0.42 | ms/batch  9.25 | loss  4.61 | ppl   100.59\n",
      "| epoch  17 |  2800/ 2928 batches | lr 0.42 | ms/batch  9.20 | loss  4.53 | ppl    92.84\n",
      "-----------------------------------------------------------------------------------------\n",
      "| end of epoch  17 | time: 28.47s | valid loss  5.18 | valid ppl   178.50\n",
      "-----------------------------------------------------------------------------------------\n",
      "| epoch  18 |   200/ 2928 batches | lr 0.40 | ms/batch  9.37 | loss  4.61 | ppl   100.52\n",
      "| epoch  18 |   400/ 2928 batches | lr 0.40 | ms/batch  9.11 | loss  4.65 | ppl   104.13\n",
      "| epoch  18 |   600/ 2928 batches | lr 0.40 | ms/batch  9.24 | loss  4.47 | ppl    87.05\n",
      "| epoch  18 |   800/ 2928 batches | lr 0.40 | ms/batch  9.16 | loss  4.55 | ppl    94.98\n",
      "| epoch  18 |  1000/ 2928 batches | lr 0.40 | ms/batch  9.05 | loss  4.51 | ppl    90.70\n",
      "| epoch  18 |  1200/ 2928 batches | lr 0.40 | ms/batch  9.06 | loss  4.58 | ppl    97.07\n",
      "| epoch  18 |  1400/ 2928 batches | lr 0.40 | ms/batch  9.18 | loss  4.58 | ppl    97.35\n",
      "| epoch  18 |  1600/ 2928 batches | lr 0.40 | ms/batch  9.15 | loss  4.63 | ppl   102.74\n",
      "| epoch  18 |  1800/ 2928 batches | lr 0.40 | ms/batch  9.19 | loss  4.59 | ppl    98.17\n",
      "| epoch  18 |  2000/ 2928 batches | lr 0.40 | ms/batch  9.30 | loss  4.59 | ppl    98.41\n",
      "| epoch  18 |  2200/ 2928 batches | lr 0.40 | ms/batch  9.23 | loss  4.43 | ppl    84.13\n",
      "| epoch  18 |  2400/ 2928 batches | lr 0.40 | ms/batch  9.22 | loss  4.57 | ppl    96.08\n",
      "| epoch  18 |  2600/ 2928 batches | lr 0.40 | ms/batch  9.06 | loss  4.58 | ppl    97.97\n",
      "| epoch  18 |  2800/ 2928 batches | lr 0.40 | ms/batch  9.21 | loss  4.50 | ppl    90.35\n",
      "-----------------------------------------------------------------------------------------\n",
      "| end of epoch  18 | time: 28.40s | valid loss  5.18 | valid ppl   177.67\n",
      "-----------------------------------------------------------------------------------------\n",
      "| epoch  19 |   200/ 2928 batches | lr 0.38 | ms/batch  9.38 | loss  4.59 | ppl    98.02\n",
      "| epoch  19 |   400/ 2928 batches | lr 0.38 | ms/batch  9.12 | loss  4.62 | ppl   101.53\n",
      "| epoch  19 |   600/ 2928 batches | lr 0.38 | ms/batch  9.14 | loss  4.44 | ppl    84.67\n",
      "| epoch  19 |   800/ 2928 batches | lr 0.38 | ms/batch  9.19 | loss  4.53 | ppl    92.92\n",
      "| epoch  19 |  1000/ 2928 batches | lr 0.38 | ms/batch  9.17 | loss  4.48 | ppl    88.16\n",
      "| epoch  19 |  1200/ 2928 batches | lr 0.38 | ms/batch  9.11 | loss  4.55 | ppl    94.28\n",
      "| epoch  19 |  1400/ 2928 batches | lr 0.38 | ms/batch  9.11 | loss  4.56 | ppl    95.33\n",
      "| epoch  19 |  1600/ 2928 batches | lr 0.38 | ms/batch  9.15 | loss  4.61 | ppl   100.15\n",
      "| epoch  19 |  1800/ 2928 batches | lr 0.38 | ms/batch  9.25 | loss  4.56 | ppl    95.88\n",
      "| epoch  19 |  2000/ 2928 batches | lr 0.38 | ms/batch  9.18 | loss  4.56 | ppl    95.98\n",
      "| epoch  19 |  2200/ 2928 batches | lr 0.38 | ms/batch  9.11 | loss  4.40 | ppl    81.84\n",
      "| epoch  19 |  2400/ 2928 batches | lr 0.38 | ms/batch  9.16 | loss  4.54 | ppl    93.42\n",
      "| epoch  19 |  2600/ 2928 batches | lr 0.38 | ms/batch  9.08 | loss  4.56 | ppl    95.28\n",
      "| epoch  19 |  2800/ 2928 batches | lr 0.38 | ms/batch  9.19 | loss  4.48 | ppl    87.95\n",
      "-----------------------------------------------------------------------------------------\n",
      "| end of epoch  19 | time: 28.37s | valid loss  5.18 | valid ppl   178.25\n",
      "-----------------------------------------------------------------------------------------\n",
      "| epoch  20 |   200/ 2928 batches | lr 0.36 | ms/batch  9.48 | loss  4.56 | ppl    95.75\n",
      "| epoch  20 |   400/ 2928 batches | lr 0.36 | ms/batch  9.10 | loss  4.60 | ppl    99.06\n",
      "| epoch  20 |   600/ 2928 batches | lr 0.36 | ms/batch  9.14 | loss  4.42 | ppl    82.92\n",
      "| epoch  20 |   800/ 2928 batches | lr 0.36 | ms/batch  9.13 | loss  4.51 | ppl    90.68\n",
      "| epoch  20 |  1000/ 2928 batches | lr 0.36 | ms/batch  9.30 | loss  4.46 | ppl    86.56\n",
      "| epoch  20 |  1200/ 2928 batches | lr 0.36 | ms/batch  9.15 | loss  4.52 | ppl    92.08\n",
      "| epoch  20 |  1400/ 2928 batches | lr 0.36 | ms/batch  9.13 | loss  4.53 | ppl    92.35\n",
      "| epoch  20 |  1600/ 2928 batches | lr 0.36 | ms/batch  9.23 | loss  4.58 | ppl    97.99\n",
      "| epoch  20 |  1800/ 2928 batches | lr 0.36 | ms/batch  9.24 | loss  4.54 | ppl    93.90\n",
      "| epoch  20 |  2000/ 2928 batches | lr 0.36 | ms/batch  9.17 | loss  4.54 | ppl    93.43\n",
      "| epoch  20 |  2200/ 2928 batches | lr 0.36 | ms/batch  9.13 | loss  4.38 | ppl    80.02\n",
      "| epoch  20 |  2400/ 2928 batches | lr 0.36 | ms/batch  9.16 | loss  4.52 | ppl    91.51\n",
      "| epoch  20 |  2600/ 2928 batches | lr 0.36 | ms/batch  9.10 | loss  4.53 | ppl    93.10\n",
      "| epoch  20 |  2800/ 2928 batches | lr 0.36 | ms/batch  9.13 | loss  4.45 | ppl    86.02\n",
      "-----------------------------------------------------------------------------------------\n",
      "| end of epoch  20 | time: 28.41s | valid loss  5.18 | valid ppl   178.29\n",
      "-----------------------------------------------------------------------------------------\n"
     ]
    }
   ],
   "source": [
    "best_val_loss = float(\"inf\")\n",
    "epochs = 20 # The number of epochs\n",
    "best_model = None\n",
    "\n",
    "\n",
    "for epoch in range(1, epochs + 1):\n",
    "    epoch_start_time = time.time()\n",
    "    train()\n",
    "    val_loss = evaluate(model, val_data)\n",
    "    print('-' * 89)\n",
    "    print('| end of epoch {:3d} | time: {:5.2f}s | valid loss {:5.2f} | '\n",
    "          'valid ppl {:8.2f}'.format(epoch, (time.time() - epoch_start_time),\n",
    "                                     val_loss, math.exp(val_loss)))\n",
    "    print('-' * 89)\n",
    "\n",
    "    if val_loss < best_val_loss:\n",
    "        best_val_loss = val_loss\n",
    "        best_model = model\n",
    "\n",
    "    scheduler.step()\n"
   ]
  },
  {
   "cell_type": "code",
   "execution_count": 20,
   "metadata": {},
   "outputs": [
    {
     "name": "stdout",
     "output_type": "stream",
     "text": [
      "=========================================================================================\n",
      "| End of training | test loss  5.11 | test ppl   164.87\n",
      "=========================================================================================\n"
     ]
    }
   ],
   "source": [
    "######################################################################\n",
    "# Evaluate the model with the test dataset\n",
    "# -------------------------------------\n",
    "#\n",
    "# Apply the best model to check the result with the test dataset.\n",
    "\n",
    "test_loss = evaluate(best_model, test_data)\n",
    "print('=' * 89)\n",
    "print('| End of training | test loss {:5.2f} | test ppl {:8.2f}'.format(\n",
    "    test_loss, math.exp(test_loss)))\n",
    "print('=' * 89)\n",
    "\n"
   ]
  },
  {
   "cell_type": "code",
   "execution_count": null,
   "metadata": {},
   "outputs": [],
   "source": []
  }
 ],
 "metadata": {
  "kernelspec": {
   "display_name": "v3",
   "language": "python",
   "name": "v-jpt-3"
  },
  "language_info": {
   "codemirror_mode": {
    "name": "ipython",
    "version": 3
   },
   "file_extension": ".py",
   "mimetype": "text/x-python",
   "name": "python",
   "nbconvert_exporter": "python",
   "pygments_lexer": "ipython3",
   "version": "3.8.6"
  }
 },
 "nbformat": 4,
 "nbformat_minor": 4
}
