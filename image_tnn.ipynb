{
 "cells": [
  {
   "cell_type": "markdown",
   "metadata": {},
   "source": [
    "# Transformer tutorial\n",
    "Feb 2021 \\\n",
    "https://github.com/pytorch/tutorials/blob/master/beginner_source/transformer_tutorial.py"
   ]
  },
  {
   "cell_type": "code",
   "execution_count": 1,
   "metadata": {},
   "outputs": [],
   "source": [
    "import math\n",
    "import torch\n",
    "import torch.nn as nn\n",
    "import torch.nn.functional as F\n",
    "import numpy as np\n",
    "\n",
    "from torch.nn import TransformerEncoder, TransformerEncoderLayer, TransformerDecoder, TransformerDecoderLayer"
   ]
  },
  {
   "cell_type": "code",
   "execution_count": 2,
   "metadata": {},
   "outputs": [],
   "source": [
    "import io\n",
    "import torch\n",
    "from torchtext.utils import download_from_url, extract_archive\n",
    "from torchtext.data.utils import get_tokenizer\n",
    "from torchtext.vocab import build_vocab_from_iterator\n",
    "\n",
    "import time"
   ]
  },
  {
   "cell_type": "code",
   "execution_count": 3,
   "metadata": {},
   "outputs": [],
   "source": [
    "%matplotlib widget"
   ]
  },
  {
   "cell_type": "code",
   "execution_count": 4,
   "metadata": {},
   "outputs": [],
   "source": [
    "class PositionalEncoding(nn.Module):\n",
    "\n",
    "    def __init__(self, d_model, dropout=0.1, max_len=5000):\n",
    "        super(PositionalEncoding, self).__init__()\n",
    "        self.dropout = nn.Dropout(p=dropout)\n",
    "        \n",
    "        pe = torch.zeros(max_len, d_model)\n",
    "        position = torch.arange(0, max_len, dtype=torch.float).unsqueeze(1)\n",
    "        div_term = torch.exp(torch.arange(0, d_model, 2).float() * (-math.log(10000.0) / d_model))\n",
    "        pe[:, 0::2] = torch.sin(position * div_term)\n",
    "        pe[:, 1::2] = torch.cos(position * div_term)\n",
    "        pe = pe.unsqueeze(0).transpose(0, 1)\n",
    "        self.register_buffer('pe', pe)\n",
    "\n",
    "    def forward(self, x):\n",
    "        x = x + self.pe[:x.size(0), :]\n",
    "        return self.dropout(x)\n",
    "\n",
    "\n",
    "class TransformerModel(nn.Module):\n",
    "\n",
    "    def __init__(self, ntoken, ninp, nhead, nhid, nlayers, dropout=0.5):\n",
    "        '''\n",
    "        ninp: Length of input sentence\n",
    "        '''\n",
    "        \n",
    "        super(TransformerModel, self).__init__()\n",
    "        self.model_type = 'Transformer'\n",
    "        self.pos_encoder = PositionalEncoding(ninp, dropout)\n",
    "        encoder_layers = TransformerEncoderLayer(ninp, nhead, nhid, dropout)\n",
    "        self.transformer_encoder = TransformerEncoder(encoder_layers, nlayers)\n",
    "        self.encoder = nn.Embedding(ntoken, ninp)\n",
    "        self.ninp = ninp\n",
    "        self.decoder = nn.Linear(ninp, ntoken)\n",
    "\n",
    "        self.init_weights()\n",
    "\n",
    "    def generate_square_subsequent_mask(self, sz):\n",
    "        mask = (torch.triu(torch.ones(sz, sz)) == 1).transpose(0, 1)\n",
    "        mask = mask.float().masked_fill(mask == 0, float('-inf')).masked_fill(mask == 1, float(0.0))\n",
    "        return mask\n",
    "\n",
    "    def init_weights(self):\n",
    "        initrange = 0.1\n",
    "        self.encoder.weight.data.uniform_(-initrange, initrange)\n",
    "        self.decoder.bias.data.zero_()\n",
    "        self.decoder.weight.data.uniform_(-initrange, initrange)\n",
    "    \n",
    "    def forward(self, src, src_mask):\n",
    "        src = self.encoder(src) * math.sqrt(self.ninp)\n",
    "        src = self.pos_encoder(src)\n",
    "        output = self.transformer_encoder(src, src_mask)\n",
    "        output = self.decoder(output)\n",
    "        return output\n"
   ]
  },
  {
   "cell_type": "code",
   "execution_count": 5,
   "metadata": {
    "jupyter": {
     "source_hidden": true
    }
   },
   "outputs": [],
   "source": [
    "# class PositionalEncoding(nn.Module):\n",
    "\n",
    "#     def __init__(self, d_model, dropout=0.1, max_len=5000):\n",
    "#         super(PositionalEncoding, self).__init__()\n",
    "#         self.dropout = nn.Dropout(p=dropout)\n",
    "        \n",
    "#         pe = torch.zeros(max_len, d_model)\n",
    "#         position = torch.arange(0, max_len, dtype=torch.float).unsqueeze(1)\n",
    "#         div_term = torch.exp(torch.arange(0, d_model, 2).float() * (-math.log(10000.0) / d_model))\n",
    "#         pe[:, 0::2] = torch.sin(position * div_term)\n",
    "#         pe[:, 1::2] = torch.cos(position * div_term)\n",
    "#         pe = pe.unsqueeze(0).transpose(0, 1)\n",
    "#         self.register_buffer('pe', pe)\n",
    "\n",
    "#     def forward(self, x):\n",
    "#         x = x + self.pe[:x.size(0), :]\n",
    "#         return self.dropout(x)\n",
    "\n",
    "# class TransformerModel(nn.Module):\n",
    "    \n",
    "#     def __init__(self, ntoken, ninp, nhead, nhid, nlayers, dropout=0.5):\n",
    "#         super(TransformerModel, self).__init__()\n",
    "#         self.model_type = 'Transformer'\n",
    "#         self.pos_encoder = PositionalEncoding(ninp, dropout)\n",
    "#         encoder_layers = TransformerEncoderLayer(ninp, nhead, nhid, dropout)\n",
    "#         self.transformer_encoder = TransformerEncoder(encoder_layers, nlayers)\n",
    "        \n",
    "#         self.encoder = nn.Embedding(ntoken, ninp)\n",
    "#         self.ninp = ninp\n",
    "# #         self.decoder = nn.Linear(ninp, ntoken)\n",
    "        \n",
    "#         decoder_layers = TransformerDecoderLayer(ninp, nhead, nhid, dropout)\n",
    "#         self.decoder = TransformerDecoder(decoder_layers, nlayers)\n",
    "#         self.init_weights()\n",
    "    \n",
    "#     def generate_square_subsequent_mask(self, sz):\n",
    "#         mask = (torch.triu(torch.ones(sz, sz)) == 1).transpose(0, 1)\n",
    "#         mask = mask.float().masked_fill(mask == 0, float('-inf')).masked_fill(mask == 1, float(0.0))\n",
    "#         return mask\n",
    "    \n",
    "#     def init_weights(self):\n",
    "#         initrange = 0.1\n",
    "#         self.encoder.weight.data.uniform_(-initrange, initrange)\n",
    "# #         self.decoder.bias.data.zero_()\n",
    "# #         self.decoder.weight.data.uniform_(-initrange, initrange)\n",
    "    \n",
    "#     def forward(self, src, src_mask):\n",
    "#         src = self.encoder(src) * math.sqrt(self.ninp)\n",
    "#         src = self.pos_encoder(src)\n",
    "#         output = self.transformer_encoder(src, src_mask)\n",
    "#         output = self.decoder(output)\n",
    "#         return output\n"
   ]
  },
  {
   "cell_type": "code",
   "execution_count": 6,
   "metadata": {},
   "outputs": [],
   "source": [
    "def data_process(raw_text_iter):\n",
    "    '''Get tensor with vocab indices for given words.\n",
    "    Convert words -> indices\n",
    "    '''\n",
    "    data = [torch.tensor([vocab[token] for token in tokenizer(item)],\n",
    "                       dtype=torch.long) for item in raw_text_iter]\n",
    "    return torch.cat(tuple(filter(lambda t: t.numel() > 0, data)))\n",
    "\n",
    "def batchify(data, bsz):\n",
    "    # Divide the dataset into bsz parts.\n",
    "    nbatch = data.size(0) // bsz\n",
    "    # Trim off any extra elements that wouldn't cleanly fit (remainders).\n",
    "    data = data.narrow(0, 0, nbatch * bsz)\n",
    "    # Evenly divide the data across the bsz batches.\n",
    "    data = data.view(bsz, -1).t().contiguous()\n",
    "    return data.to(device)\n",
    "\n",
    "def get_batch(source, i):\n",
    "    ''' Create data and target from source. Target is just the next batch of inputs\n",
    "    '''\n",
    "    seq_len = min(bptt, len(source) - 1 - i)\n",
    "    data = source[i:i+seq_len]\n",
    "    target = source[i+1:i+1+seq_len].reshape(-1)\n",
    "    return data, target"
   ]
  },
  {
   "cell_type": "markdown",
   "metadata": {},
   "source": [
    "### Data setup"
   ]
  },
  {
   "cell_type": "code",
   "execution_count": 7,
   "metadata": {},
   "outputs": [
    {
     "name": "stderr",
     "output_type": "stream",
     "text": [
      "36718lines [00:01, 23762.19lines/s]\n"
     ]
    }
   ],
   "source": [
    "url = 'https://s3.amazonaws.com/research.metamind.io/wikitext/wikitext-2-v1.zip'\n",
    "## Download file names for train, val, test\n",
    "test_filepath, valid_filepath, train_filepath = extract_archive(download_from_url(url))\n",
    "## Get function to Convert sentence to list of words\n",
    "tokenizer = get_tokenizer('basic_english') \n",
    "## Get vocab list\n",
    "vocab = build_vocab_from_iterator(map(tokenizer, iter(io.open(train_filepath, encoding=\"utf8\"))))\n"
   ]
  },
  {
   "cell_type": "code",
   "execution_count": 8,
   "metadata": {},
   "outputs": [],
   "source": [
    "train_data = data_process(iter(io.open(train_filepath, encoding=\"utf8\")))\n",
    "val_data = data_process(iter(io.open(valid_filepath, encoding=\"utf8\")))\n",
    "test_data = data_process(iter(io.open(test_filepath, encoding=\"utf8\")))\n",
    "\n",
    "device = torch.device(\"cuda\" if torch.cuda.is_available() else \"cpu\")"
   ]
  },
  {
   "cell_type": "code",
   "execution_count": 9,
   "metadata": {},
   "outputs": [
    {
     "name": "stdout",
     "output_type": "stream",
     "text": [
      "torch.Size([2049990]) torch.Size([214417]) torch.Size([241859])\n"
     ]
    }
   ],
   "source": [
    "print(train_data.shape,val_data.shape,test_data.shape)"
   ]
  },
  {
   "cell_type": "code",
   "execution_count": 10,
   "metadata": {},
   "outputs": [],
   "source": [
    "batch_size = 20\n",
    "eval_batch_size = 10\n",
    "train_data = batchify(train_data, batch_size)\n",
    "val_data = batchify(val_data, eval_batch_size)\n",
    "test_data = batchify(test_data, eval_batch_size)\n",
    "bptt = 35\n"
   ]
  },
  {
   "cell_type": "code",
   "execution_count": 11,
   "metadata": {},
   "outputs": [
    {
     "name": "stdout",
     "output_type": "stream",
     "text": [
      "torch.Size([102499, 20]) torch.Size([21441, 10]) torch.Size([24185, 10])\n"
     ]
    }
   ],
   "source": [
    "print(train_data.shape,val_data.shape,test_data.shape)"
   ]
  },
  {
   "cell_type": "code",
   "execution_count": 12,
   "metadata": {},
   "outputs": [],
   "source": [
    "ntokens = len(vocab.stoi) # the size of vocabulary\n",
    "emsize = 200 # embedding dimension\n",
    "nhid = 200 # the dimension of the feedforward network model in nn.TransformerEncoder\n",
    "nlayers = 6 # the number of nn.TransformerEncoderLayer in nn.TransformerEncoder\n",
    "nhead = 8 # the number of heads in the multiheadattention models\n",
    "dropout = 0.2 # the dropout value\n",
    "model = TransformerModel(ntokens, emsize, nhead, nhid, nlayers, dropout).to(device)\n"
   ]
  },
  {
   "cell_type": "code",
   "execution_count": null,
   "metadata": {},
   "outputs": [],
   "source": []
  },
  {
   "cell_type": "code",
   "execution_count": 13,
   "metadata": {},
   "outputs": [],
   "source": [
    "source=test_data[:]\n",
    "i=35\n",
    "seq_len = min(bptt, len(source) - 1 - i)\n",
    "data = source[i:i+seq_len]\n",
    "target = source[i+1:i+1+seq_len].reshape(-1)"
   ]
  },
  {
   "cell_type": "code",
   "execution_count": 14,
   "metadata": {},
   "outputs": [
    {
     "data": {
      "text/plain": [
       "(torch.Size([35, 10]), torch.Size([350]))"
      ]
     },
     "execution_count": 14,
     "metadata": {},
     "output_type": "execute_result"
    }
   ],
   "source": [
    "data.shape,target.shape"
   ]
  },
  {
   "cell_type": "code",
   "execution_count": 15,
   "metadata": {},
   "outputs": [],
   "source": [
    "# model.eval()\n",
    "# data, targets =get_batch(test_data, 1)\n",
    "# data.shape,targets.shape\n",
    "# # src_mask = model.generate_square_subsequent_mask(data.size(0)).to(device)\n",
    "# src_maks=torch.zeros((data.size(0),data.size(0))).to(device)\n",
    "# output = model(data, src_mask)\n",
    "# # output_flat = output.view(-1, ntokens)"
   ]
  },
  {
   "cell_type": "code",
   "execution_count": 16,
   "metadata": {},
   "outputs": [],
   "source": [
    "def train():\n",
    "    model.train() # Turn on the train mode\n",
    "    total_loss = 0.\n",
    "    start_time = time.time()\n",
    "    src_mask = model.generate_square_subsequent_mask(bptt).to(device)\n",
    "    for batch, i in enumerate(range(0, train_data.size(0) - 1, bptt)):\n",
    "        data, targets = get_batch(train_data, i)\n",
    "        optimizer.zero_grad()\n",
    "        if data.size(0) != bptt:\n",
    "            src_mask = model.generate_square_subsequent_mask(data.size(0)).to(device)\n",
    "        output = model(data, src_mask)\n",
    "        loss = criterion(output.view(-1, ntokens), targets)\n",
    "        loss.backward()\n",
    "        torch.nn.utils.clip_grad_norm_(model.parameters(), 0.5)\n",
    "        optimizer.step()\n",
    "\n",
    "        total_loss += loss.item()\n",
    "        log_interval = 200\n",
    "        if batch % log_interval == 0 and batch > 0:\n",
    "            cur_loss = total_loss / log_interval\n",
    "            elapsed = time.time() - start_time\n",
    "            print('| epoch {:3d} | {:5d}/{:5d} batches | '\n",
    "                  'lr {:02.2f} | ms/batch {:5.2f} | '\n",
    "                  'loss {:5.2f} | ppl {:8.2f}'.format(\n",
    "                    epoch, batch, len(train_data) // bptt, scheduler.get_lr()[0],\n",
    "                    elapsed * 1000 / log_interval,\n",
    "                    cur_loss, math.exp(cur_loss)))\n",
    "            total_loss = 0\n",
    "            start_time = time.time()\n",
    "\n",
    "def evaluate(eval_model, data_source):\n",
    "    eval_model.eval() # Turn on the evaluation mode\n",
    "    total_loss = 0.\n",
    "    src_mask = model.generate_square_subsequent_mask(bptt).to(device)\n",
    "    with torch.no_grad():\n",
    "        for i in range(0, data_source.size(0) - 1, bptt):\n",
    "            data, targets = get_batch(data_source, i)\n",
    "            if data.size(0) != bptt:\n",
    "                src_mask = model.generate_square_subsequent_mask(data.size(0)).to(device)\n",
    "            output = eval_model(data, src_mask)\n",
    "            output_flat = output.view(-1, ntokens)\n",
    "            total_loss += len(data) * criterion(output_flat, targets).item()\n",
    "    return total_loss / (len(data_source) - 1)\n"
   ]
  },
  {
   "cell_type": "code",
   "execution_count": 17,
   "metadata": {},
   "outputs": [],
   "source": [
    "criterion = nn.CrossEntropyLoss()\n",
    "lr = 1.0 # learning rate\n",
    "optimizer = torch.optim.SGD(model.parameters(), lr=lr)\n",
    "scheduler = torch.optim.lr_scheduler.StepLR(optimizer, 1.0, gamma=0.95)\n"
   ]
  },
  {
   "cell_type": "code",
   "execution_count": 18,
   "metadata": {},
   "outputs": [
    {
     "data": {
      "text/plain": [
       "torch.Size([35, 10, 28783])"
      ]
     },
     "execution_count": 18,
     "metadata": {},
     "output_type": "execute_result"
    }
   ],
   "source": [
    "src_mask = model.generate_square_subsequent_mask(bptt).to(device)\n",
    "\n",
    "model(data, src_mask).shape"
   ]
  },
  {
   "cell_type": "code",
   "execution_count": 19,
   "metadata": {},
   "outputs": [
    {
     "data": {
      "text/plain": [
       "(torch.Size([35, 10]), torch.Size([35, 35]))"
      ]
     },
     "execution_count": 19,
     "metadata": {},
     "output_type": "execute_result"
    }
   ],
   "source": [
    "data.shape,src_mask.shape"
   ]
  },
  {
   "cell_type": "code",
   "execution_count": 20,
   "metadata": {},
   "outputs": [
    {
     "name": "stdout",
     "output_type": "stream",
     "text": [
      "TransformerModel(\n",
      "  (pos_encoder): PositionalEncoding(\n",
      "    (dropout): Dropout(p=0.2, inplace=False)\n",
      "  )\n",
      "  (transformer_encoder): TransformerEncoder(\n",
      "    (layers): ModuleList(\n",
      "      (0): TransformerEncoderLayer(\n",
      "        (self_attn): MultiheadAttention(\n",
      "          (out_proj): _LinearWithBias(in_features=200, out_features=200, bias=True)\n",
      "        )\n",
      "        (linear1): Linear(in_features=200, out_features=200, bias=True)\n",
      "        (dropout): Dropout(p=0.2, inplace=False)\n",
      "        (linear2): Linear(in_features=200, out_features=200, bias=True)\n",
      "        (norm1): LayerNorm((200,), eps=1e-05, elementwise_affine=True)\n",
      "        (norm2): LayerNorm((200,), eps=1e-05, elementwise_affine=True)\n",
      "        (dropout1): Dropout(p=0.2, inplace=False)\n",
      "        (dropout2): Dropout(p=0.2, inplace=False)\n",
      "      )\n",
      "      (1): TransformerEncoderLayer(\n",
      "        (self_attn): MultiheadAttention(\n",
      "          (out_proj): _LinearWithBias(in_features=200, out_features=200, bias=True)\n",
      "        )\n",
      "        (linear1): Linear(in_features=200, out_features=200, bias=True)\n",
      "        (dropout): Dropout(p=0.2, inplace=False)\n",
      "        (linear2): Linear(in_features=200, out_features=200, bias=True)\n",
      "        (norm1): LayerNorm((200,), eps=1e-05, elementwise_affine=True)\n",
      "        (norm2): LayerNorm((200,), eps=1e-05, elementwise_affine=True)\n",
      "        (dropout1): Dropout(p=0.2, inplace=False)\n",
      "        (dropout2): Dropout(p=0.2, inplace=False)\n",
      "      )\n",
      "      (2): TransformerEncoderLayer(\n",
      "        (self_attn): MultiheadAttention(\n",
      "          (out_proj): _LinearWithBias(in_features=200, out_features=200, bias=True)\n",
      "        )\n",
      "        (linear1): Linear(in_features=200, out_features=200, bias=True)\n",
      "        (dropout): Dropout(p=0.2, inplace=False)\n",
      "        (linear2): Linear(in_features=200, out_features=200, bias=True)\n",
      "        (norm1): LayerNorm((200,), eps=1e-05, elementwise_affine=True)\n",
      "        (norm2): LayerNorm((200,), eps=1e-05, elementwise_affine=True)\n",
      "        (dropout1): Dropout(p=0.2, inplace=False)\n",
      "        (dropout2): Dropout(p=0.2, inplace=False)\n",
      "      )\n",
      "      (3): TransformerEncoderLayer(\n",
      "        (self_attn): MultiheadAttention(\n",
      "          (out_proj): _LinearWithBias(in_features=200, out_features=200, bias=True)\n",
      "        )\n",
      "        (linear1): Linear(in_features=200, out_features=200, bias=True)\n",
      "        (dropout): Dropout(p=0.2, inplace=False)\n",
      "        (linear2): Linear(in_features=200, out_features=200, bias=True)\n",
      "        (norm1): LayerNorm((200,), eps=1e-05, elementwise_affine=True)\n",
      "        (norm2): LayerNorm((200,), eps=1e-05, elementwise_affine=True)\n",
      "        (dropout1): Dropout(p=0.2, inplace=False)\n",
      "        (dropout2): Dropout(p=0.2, inplace=False)\n",
      "      )\n",
      "      (4): TransformerEncoderLayer(\n",
      "        (self_attn): MultiheadAttention(\n",
      "          (out_proj): _LinearWithBias(in_features=200, out_features=200, bias=True)\n",
      "        )\n",
      "        (linear1): Linear(in_features=200, out_features=200, bias=True)\n",
      "        (dropout): Dropout(p=0.2, inplace=False)\n",
      "        (linear2): Linear(in_features=200, out_features=200, bias=True)\n",
      "        (norm1): LayerNorm((200,), eps=1e-05, elementwise_affine=True)\n",
      "        (norm2): LayerNorm((200,), eps=1e-05, elementwise_affine=True)\n",
      "        (dropout1): Dropout(p=0.2, inplace=False)\n",
      "        (dropout2): Dropout(p=0.2, inplace=False)\n",
      "      )\n",
      "      (5): TransformerEncoderLayer(\n",
      "        (self_attn): MultiheadAttention(\n",
      "          (out_proj): _LinearWithBias(in_features=200, out_features=200, bias=True)\n",
      "        )\n",
      "        (linear1): Linear(in_features=200, out_features=200, bias=True)\n",
      "        (dropout): Dropout(p=0.2, inplace=False)\n",
      "        (linear2): Linear(in_features=200, out_features=200, bias=True)\n",
      "        (norm1): LayerNorm((200,), eps=1e-05, elementwise_affine=True)\n",
      "        (norm2): LayerNorm((200,), eps=1e-05, elementwise_affine=True)\n",
      "        (dropout1): Dropout(p=0.2, inplace=False)\n",
      "        (dropout2): Dropout(p=0.2, inplace=False)\n",
      "      )\n",
      "    )\n",
      "  )\n",
      "  (encoder): Embedding(28783, 200)\n",
      "  (decoder): Linear(in_features=200, out_features=28783, bias=True)\n",
      ")\n"
     ]
    }
   ],
   "source": [
    "print(model)"
   ]
  },
  {
   "cell_type": "markdown",
   "metadata": {},
   "source": [
    "### Train"
   ]
  },
  {
   "cell_type": "code",
   "execution_count": 21,
   "metadata": {},
   "outputs": [
    {
     "name": "stderr",
     "output_type": "stream",
     "text": [
      "/global/homes/v/vpa/.conda/envs/v3/lib/python3.8/site-packages/torch/optim/lr_scheduler.py:369: UserWarning: To get the last learning rate computed by the scheduler, please use `get_last_lr()`.\n",
      "  warnings.warn(\"To get the last learning rate computed by the scheduler, \"\n"
     ]
    },
    {
     "name": "stdout",
     "output_type": "stream",
     "text": [
      "| epoch   1 |   200/ 2928 batches | lr 1.00 | ms/batch 18.94 | loss  7.57 | ppl  1946.51\n",
      "| epoch   1 |   400/ 2928 batches | lr 1.00 | ms/batch 16.32 | loss  6.93 | ppl  1026.09\n",
      "| epoch   1 |   600/ 2928 batches | lr 1.00 | ms/batch 16.20 | loss  6.68 | ppl   798.45\n",
      "| epoch   1 |   800/ 2928 batches | lr 1.00 | ms/batch 16.09 | loss  6.59 | ppl   725.11\n",
      "| epoch   1 |  1000/ 2928 batches | lr 1.00 | ms/batch 16.32 | loss  6.48 | ppl   650.95\n",
      "| epoch   1 |  1200/ 2928 batches | lr 1.00 | ms/batch 16.21 | loss  6.44 | ppl   623.93\n",
      "| epoch   1 |  1400/ 2928 batches | lr 1.00 | ms/batch 15.87 | loss  6.35 | ppl   570.57\n",
      "| epoch   1 |  1600/ 2928 batches | lr 1.00 | ms/batch 15.88 | loss  6.32 | ppl   556.50\n",
      "| epoch   1 |  1800/ 2928 batches | lr 1.00 | ms/batch 16.00 | loss  6.24 | ppl   511.88\n",
      "| epoch   1 |  2000/ 2928 batches | lr 1.00 | ms/batch 16.21 | loss  6.21 | ppl   497.52\n",
      "| epoch   1 |  2200/ 2928 batches | lr 1.00 | ms/batch 15.96 | loss  6.09 | ppl   439.40\n",
      "| epoch   1 |  2400/ 2928 batches | lr 1.00 | ms/batch 16.04 | loss  6.12 | ppl   456.54\n",
      "| epoch   1 |  2600/ 2928 batches | lr 1.00 | ms/batch 16.25 | loss  6.09 | ppl   442.35\n",
      "| epoch   1 |  2800/ 2928 batches | lr 1.00 | ms/batch 16.20 | loss  6.02 | ppl   413.16\n",
      "-----------------------------------------------------------------------------------------\n",
      "| end of epoch   1 | time: 50.48s | valid loss  5.87 | valid ppl   354.90\n",
      "-----------------------------------------------------------------------------------------\n",
      "| epoch   2 |   200/ 2928 batches | lr 0.90 | ms/batch 16.72 | loss  6.00 | ppl   404.08\n",
      "| epoch   2 |   400/ 2928 batches | lr 0.90 | ms/batch 15.89 | loss  5.99 | ppl   400.94\n",
      "| epoch   2 |   600/ 2928 batches | lr 0.90 | ms/batch 15.78 | loss  5.85 | ppl   347.95\n",
      "| epoch   2 |   800/ 2928 batches | lr 0.90 | ms/batch 16.02 | loss  5.89 | ppl   359.67\n",
      "| epoch   2 |  1000/ 2928 batches | lr 0.90 | ms/batch 15.84 | loss  5.82 | ppl   337.97\n",
      "| epoch   2 |  1200/ 2928 batches | lr 0.90 | ms/batch 16.20 | loss  5.85 | ppl   347.09\n",
      "| epoch   2 |  1400/ 2928 batches | lr 0.90 | ms/batch 15.92 | loss  5.82 | ppl   338.43\n",
      "| epoch   2 |  1600/ 2928 batches | lr 0.90 | ms/batch 15.89 | loss  5.86 | ppl   349.92\n",
      "| epoch   2 |  1800/ 2928 batches | lr 0.90 | ms/batch 15.87 | loss  5.78 | ppl   322.83\n",
      "| epoch   2 |  2000/ 2928 batches | lr 0.90 | ms/batch 15.91 | loss  5.79 | ppl   326.56\n",
      "| epoch   2 |  2200/ 2928 batches | lr 0.90 | ms/batch 15.84 | loss  5.67 | ppl   289.03\n",
      "| epoch   2 |  2400/ 2928 batches | lr 0.90 | ms/batch 15.78 | loss  5.74 | ppl   311.62\n",
      "| epoch   2 |  2600/ 2928 batches | lr 0.90 | ms/batch 16.03 | loss  5.74 | ppl   309.85\n",
      "| epoch   2 |  2800/ 2928 batches | lr 0.90 | ms/batch 15.91 | loss  5.66 | ppl   287.33\n",
      "-----------------------------------------------------------------------------------------\n",
      "| end of epoch   2 | time: 49.50s | valid loss  5.62 | valid ppl   274.90\n",
      "-----------------------------------------------------------------------------------------\n",
      "| epoch   3 |   200/ 2928 batches | lr 0.86 | ms/batch 16.61 | loss  5.69 | ppl   294.88\n",
      "| epoch   3 |   400/ 2928 batches | lr 0.86 | ms/batch 16.16 | loss  5.71 | ppl   301.39\n",
      "| epoch   3 |   600/ 2928 batches | lr 0.86 | ms/batch 15.95 | loss  5.54 | ppl   255.83\n",
      "| epoch   3 |   800/ 2928 batches | lr 0.86 | ms/batch 16.15 | loss  5.60 | ppl   269.60\n",
      "| epoch   3 |  1000/ 2928 batches | lr 0.86 | ms/batch 16.31 | loss  5.54 | ppl   254.68\n",
      "| epoch   3 |  1200/ 2928 batches | lr 0.86 | ms/batch 16.17 | loss  5.58 | ppl   264.73\n",
      "| epoch   3 |  1400/ 2928 batches | lr 0.86 | ms/batch 16.14 | loss  5.58 | ppl   263.93\n",
      "| epoch   3 |  1600/ 2928 batches | lr 0.86 | ms/batch 15.94 | loss  5.61 | ppl   272.03\n",
      "| epoch   3 |  1800/ 2928 batches | lr 0.86 | ms/batch 15.93 | loss  5.53 | ppl   252.68\n",
      "| epoch   3 |  2000/ 2928 batches | lr 0.86 | ms/batch 15.91 | loss  5.55 | ppl   256.34\n",
      "| epoch   3 |  2200/ 2928 batches | lr 0.86 | ms/batch 16.06 | loss  5.42 | ppl   226.08\n",
      "| epoch   3 |  2400/ 2928 batches | lr 0.86 | ms/batch 15.93 | loss  5.51 | ppl   247.33\n",
      "| epoch   3 |  2600/ 2928 batches | lr 0.86 | ms/batch 15.84 | loss  5.51 | ppl   247.85\n",
      "| epoch   3 |  2800/ 2928 batches | lr 0.86 | ms/batch 16.01 | loss  5.44 | ppl   229.55\n",
      "-----------------------------------------------------------------------------------------\n",
      "| end of epoch   3 | time: 49.83s | valid loss  5.45 | valid ppl   232.05\n",
      "-----------------------------------------------------------------------------------------\n",
      "| epoch   4 |   200/ 2928 batches | lr 0.81 | ms/batch 16.34 | loss  5.48 | ppl   239.22\n",
      "| epoch   4 |   400/ 2928 batches | lr 0.81 | ms/batch 16.07 | loss  5.52 | ppl   248.73\n",
      "| epoch   4 |   600/ 2928 batches | lr 0.81 | ms/batch 16.09 | loss  5.34 | ppl   207.59\n",
      "| epoch   4 |   800/ 2928 batches | lr 0.81 | ms/batch 15.90 | loss  5.40 | ppl   221.65\n",
      "| epoch   4 |  1000/ 2928 batches | lr 0.81 | ms/batch 15.76 | loss  5.35 | ppl   209.78\n",
      "| epoch   4 |  1200/ 2928 batches | lr 0.81 | ms/batch 15.69 | loss  5.39 | ppl   218.86\n",
      "| epoch   4 |  1400/ 2928 batches | lr 0.81 | ms/batch 15.87 | loss  5.40 | ppl   221.06\n",
      "| epoch   4 |  1600/ 2928 batches | lr 0.81 | ms/batch 15.96 | loss  5.43 | ppl   227.94\n",
      "| epoch   4 |  1800/ 2928 batches | lr 0.81 | ms/batch 15.94 | loss  5.36 | ppl   212.63\n",
      "| epoch   4 |  2000/ 2928 batches | lr 0.81 | ms/batch 16.05 | loss  5.38 | ppl   216.12\n",
      "| epoch   4 |  2200/ 2928 batches | lr 0.81 | ms/batch 15.93 | loss  5.24 | ppl   189.37\n",
      "| epoch   4 |  2400/ 2928 batches | lr 0.81 | ms/batch 15.97 | loss  5.34 | ppl   208.93\n",
      "| epoch   4 |  2600/ 2928 batches | lr 0.81 | ms/batch 15.74 | loss  5.35 | ppl   211.10\n",
      "| epoch   4 |  2800/ 2928 batches | lr 0.81 | ms/batch 16.03 | loss  5.27 | ppl   194.43\n",
      "-----------------------------------------------------------------------------------------\n",
      "| end of epoch   4 | time: 49.45s | valid loss  5.36 | valid ppl   213.17\n",
      "-----------------------------------------------------------------------------------------\n",
      "| epoch   5 |   200/ 2928 batches | lr 0.77 | ms/batch 16.54 | loss  5.32 | ppl   204.89\n",
      "| epoch   5 |   400/ 2928 batches | lr 0.77 | ms/batch 16.01 | loss  5.37 | ppl   214.89\n",
      "| epoch   5 |   600/ 2928 batches | lr 0.77 | ms/batch 15.78 | loss  5.18 | ppl   177.63\n",
      "| epoch   5 |   800/ 2928 batches | lr 0.77 | ms/batch 15.83 | loss  5.25 | ppl   191.14\n",
      "| epoch   5 |  1000/ 2928 batches | lr 0.77 | ms/batch 15.86 | loss  5.20 | ppl   180.79\n",
      "| epoch   5 |  1200/ 2928 batches | lr 0.77 | ms/batch 15.97 | loss  5.25 | ppl   190.07\n",
      "| epoch   5 |  1400/ 2928 batches | lr 0.77 | ms/batch 15.77 | loss  5.26 | ppl   192.15\n",
      "| epoch   5 |  1600/ 2928 batches | lr 0.77 | ms/batch 15.87 | loss  5.29 | ppl   199.08\n",
      "| epoch   5 |  1800/ 2928 batches | lr 0.77 | ms/batch 15.86 | loss  5.22 | ppl   185.80\n",
      "| epoch   5 |  2000/ 2928 batches | lr 0.77 | ms/batch 15.76 | loss  5.24 | ppl   188.72\n",
      "| epoch   5 |  2200/ 2928 batches | lr 0.77 | ms/batch 16.07 | loss  5.10 | ppl   164.75\n",
      "| epoch   5 |  2400/ 2928 batches | lr 0.77 | ms/batch 15.88 | loss  5.21 | ppl   183.31\n",
      "| epoch   5 |  2600/ 2928 batches | lr 0.77 | ms/batch 15.83 | loss  5.22 | ppl   185.44\n",
      "| epoch   5 |  2800/ 2928 batches | lr 0.77 | ms/batch 15.88 | loss  5.14 | ppl   170.71\n",
      "-----------------------------------------------------------------------------------------\n",
      "| end of epoch   5 | time: 49.37s | valid loss  5.29 | valid ppl   198.76\n",
      "-----------------------------------------------------------------------------------------\n",
      "| epoch   6 |   200/ 2928 batches | lr 0.74 | ms/batch 16.17 | loss  5.20 | ppl   181.55\n",
      "| epoch   6 |   400/ 2928 batches | lr 0.74 | ms/batch 16.35 | loss  5.25 | ppl   190.79\n",
      "| epoch   6 |   600/ 2928 batches | lr 0.74 | ms/batch 15.75 | loss  5.05 | ppl   156.39\n",
      "| epoch   6 |   800/ 2928 batches | lr 0.74 | ms/batch 15.80 | loss  5.13 | ppl   169.24\n",
      "| epoch   6 |  1000/ 2928 batches | lr 0.74 | ms/batch 16.02 | loss  5.08 | ppl   160.92\n",
      "| epoch   6 |  1200/ 2928 batches | lr 0.74 | ms/batch 15.91 | loss  5.13 | ppl   169.43\n",
      "| epoch   6 |  1400/ 2928 batches | lr 0.74 | ms/batch 15.81 | loss  5.15 | ppl   171.58\n",
      "| epoch   6 |  1600/ 2928 batches | lr 0.74 | ms/batch 15.97 | loss  5.19 | ppl   179.21\n",
      "| epoch   6 |  1800/ 2928 batches | lr 0.74 | ms/batch 15.86 | loss  5.11 | ppl   166.38\n",
      "| epoch   6 |  2000/ 2928 batches | lr 0.74 | ms/batch 16.09 | loss  5.13 | ppl   169.78\n",
      "| epoch   6 |  2200/ 2928 batches | lr 0.74 | ms/batch 15.89 | loss  5.00 | ppl   147.76\n",
      "| epoch   6 |  2400/ 2928 batches | lr 0.74 | ms/batch 15.82 | loss  5.10 | ppl   164.24\n",
      "| epoch   6 |  2600/ 2928 batches | lr 0.74 | ms/batch 15.69 | loss  5.12 | ppl   166.63\n",
      "| epoch   6 |  2800/ 2928 batches | lr 0.74 | ms/batch 15.93 | loss  5.03 | ppl   153.17\n",
      "-----------------------------------------------------------------------------------------\n",
      "| end of epoch   6 | time: 49.38s | valid loss  5.25 | valid ppl   190.50\n",
      "-----------------------------------------------------------------------------------------\n",
      "| epoch   7 |   200/ 2928 batches | lr 0.70 | ms/batch 16.19 | loss  5.10 | ppl   164.11\n",
      "| epoch   7 |   400/ 2928 batches | lr 0.70 | ms/batch 15.95 | loss  5.15 | ppl   172.51\n",
      "| epoch   7 |   600/ 2928 batches | lr 0.70 | ms/batch 16.33 | loss  4.95 | ppl   141.23\n",
      "| epoch   7 |   800/ 2928 batches | lr 0.70 | ms/batch 15.89 | loss  5.03 | ppl   153.59\n",
      "| epoch   7 |  1000/ 2928 batches | lr 0.70 | ms/batch 15.95 | loss  4.98 | ppl   145.15\n",
      "| epoch   7 |  1200/ 2928 batches | lr 0.70 | ms/batch 15.80 | loss  5.04 | ppl   153.84\n",
      "| epoch   7 |  1400/ 2928 batches | lr 0.70 | ms/batch 15.77 | loss  5.05 | ppl   156.31\n",
      "| epoch   7 |  1600/ 2928 batches | lr 0.70 | ms/batch 15.77 | loss  5.10 | ppl   163.62\n",
      "| epoch   7 |  1800/ 2928 batches | lr 0.70 | ms/batch 15.87 | loss  5.03 | ppl   152.41\n",
      "| epoch   7 |  2000/ 2928 batches | lr 0.70 | ms/batch 15.70 | loss  5.04 | ppl   154.26\n",
      "| epoch   7 |  2200/ 2928 batches | lr 0.70 | ms/batch 15.97 | loss  4.90 | ppl   133.97\n",
      "| epoch   7 |  2400/ 2928 batches | lr 0.70 | ms/batch 15.92 | loss  5.01 | ppl   149.69\n",
      "| epoch   7 |  2600/ 2928 batches | lr 0.70 | ms/batch 15.91 | loss  5.03 | ppl   152.58\n",
      "| epoch   7 |  2800/ 2928 batches | lr 0.70 | ms/batch 15.86 | loss  4.94 | ppl   139.71\n",
      "-----------------------------------------------------------------------------------------\n",
      "| end of epoch   7 | time: 49.41s | valid loss  5.21 | valid ppl   182.24\n",
      "-----------------------------------------------------------------------------------------\n",
      "| epoch   8 |   200/ 2928 batches | lr 0.66 | ms/batch 16.12 | loss  5.02 | ppl   150.80\n",
      "| epoch   8 |   400/ 2928 batches | lr 0.66 | ms/batch 16.03 | loss  5.07 | ppl   158.63\n",
      "| epoch   8 |   600/ 2928 batches | lr 0.66 | ms/batch 15.78 | loss  4.86 | ppl   129.47\n",
      "| epoch   8 |   800/ 2928 batches | lr 0.66 | ms/batch 15.84 | loss  4.95 | ppl   141.14\n",
      "| epoch   8 |  1000/ 2928 batches | lr 0.66 | ms/batch 16.09 | loss  4.90 | ppl   133.78\n",
      "| epoch   8 |  1200/ 2928 batches | lr 0.66 | ms/batch 15.96 | loss  4.95 | ppl   141.60\n",
      "| epoch   8 |  1400/ 2928 batches | lr 0.66 | ms/batch 15.98 | loss  4.97 | ppl   144.09\n",
      "| epoch   8 |  1600/ 2928 batches | lr 0.66 | ms/batch 15.86 | loss  5.01 | ppl   150.49\n",
      "| epoch   8 |  1800/ 2928 batches | lr 0.66 | ms/batch 16.07 | loss  4.95 | ppl   140.99\n",
      "| epoch   8 |  2000/ 2928 batches | lr 0.66 | ms/batch 15.97 | loss  4.96 | ppl   143.20\n",
      "| epoch   8 |  2200/ 2928 batches | lr 0.66 | ms/batch 15.96 | loss  4.81 | ppl   123.25\n",
      "| epoch   8 |  2400/ 2928 batches | lr 0.66 | ms/batch 16.05 | loss  4.93 | ppl   138.68\n",
      "| epoch   8 |  2600/ 2928 batches | lr 0.66 | ms/batch 16.14 | loss  4.95 | ppl   141.29\n",
      "| epoch   8 |  2800/ 2928 batches | lr 0.66 | ms/batch 15.90 | loss  4.86 | ppl   129.43\n",
      "-----------------------------------------------------------------------------------------\n",
      "| end of epoch   8 | time: 49.51s | valid loss  5.18 | valid ppl   177.80\n",
      "-----------------------------------------------------------------------------------------\n",
      "| epoch   9 |   200/ 2928 batches | lr 0.63 | ms/batch 16.25 | loss  4.94 | ppl   139.18\n",
      "| epoch   9 |   400/ 2928 batches | lr 0.63 | ms/batch 16.09 | loss  4.99 | ppl   146.74\n",
      "| epoch   9 |   600/ 2928 batches | lr 0.63 | ms/batch 15.79 | loss  4.79 | ppl   120.30\n",
      "| epoch   9 |   800/ 2928 batches | lr 0.63 | ms/batch 15.98 | loss  4.87 | ppl   130.96\n",
      "| epoch   9 |  1000/ 2928 batches | lr 0.63 | ms/batch 15.91 | loss  4.82 | ppl   124.08\n",
      "| epoch   9 |  1200/ 2928 batches | lr 0.63 | ms/batch 15.99 | loss  4.88 | ppl   131.69\n",
      "| epoch   9 |  1400/ 2928 batches | lr 0.63 | ms/batch 15.81 | loss  4.90 | ppl   134.77\n",
      "| epoch   9 |  1600/ 2928 batches | lr 0.63 | ms/batch 16.06 | loss  4.94 | ppl   140.44\n",
      "| epoch   9 |  1800/ 2928 batches | lr 0.63 | ms/batch 15.90 | loss  4.88 | ppl   131.68\n",
      "| epoch   9 |  2000/ 2928 batches | lr 0.63 | ms/batch 15.95 | loss  4.89 | ppl   133.25\n",
      "| epoch   9 |  2200/ 2928 batches | lr 0.63 | ms/batch 16.00 | loss  4.74 | ppl   114.88\n",
      "| epoch   9 |  2400/ 2928 batches | lr 0.63 | ms/batch 16.00 | loss  4.86 | ppl   129.31\n",
      "| epoch   9 |  2600/ 2928 batches | lr 0.63 | ms/batch 15.90 | loss  4.89 | ppl   132.66\n",
      "| epoch   9 |  2800/ 2928 batches | lr 0.63 | ms/batch 15.96 | loss  4.80 | ppl   121.01\n",
      "-----------------------------------------------------------------------------------------\n",
      "| end of epoch   9 | time: 49.50s | valid loss  5.15 | valid ppl   172.36\n",
      "-----------------------------------------------------------------------------------------\n",
      "| epoch  10 |   200/ 2928 batches | lr 0.60 | ms/batch 16.20 | loss  4.87 | ppl   130.86\n",
      "| epoch  10 |   400/ 2928 batches | lr 0.60 | ms/batch 16.01 | loss  4.93 | ppl   137.74\n",
      "| epoch  10 |   600/ 2928 batches | lr 0.60 | ms/batch 15.92 | loss  4.72 | ppl   112.32\n",
      "| epoch  10 |   800/ 2928 batches | lr 0.60 | ms/batch 16.00 | loss  4.81 | ppl   123.18\n",
      "| epoch  10 |  1000/ 2928 batches | lr 0.60 | ms/batch 15.88 | loss  4.75 | ppl   116.14\n",
      "| epoch  10 |  1200/ 2928 batches | lr 0.60 | ms/batch 15.88 | loss  4.82 | ppl   123.50\n",
      "| epoch  10 |  1400/ 2928 batches | lr 0.60 | ms/batch 16.18 | loss  4.84 | ppl   126.42\n",
      "| epoch  10 |  1600/ 2928 batches | lr 0.60 | ms/batch 15.90 | loss  4.88 | ppl   131.68\n",
      "| epoch  10 |  1800/ 2928 batches | lr 0.60 | ms/batch 16.11 | loss  4.82 | ppl   124.33\n",
      "| epoch  10 |  2000/ 2928 batches | lr 0.60 | ms/batch 15.94 | loss  4.83 | ppl   125.19\n",
      "| epoch  10 |  2200/ 2928 batches | lr 0.60 | ms/batch 15.92 | loss  4.68 | ppl   107.75\n",
      "| epoch  10 |  2400/ 2928 batches | lr 0.60 | ms/batch 15.99 | loss  4.80 | ppl   121.42\n",
      "| epoch  10 |  2600/ 2928 batches | lr 0.60 | ms/batch 15.99 | loss  4.82 | ppl   124.37\n",
      "| epoch  10 |  2800/ 2928 batches | lr 0.60 | ms/batch 15.68 | loss  4.73 | ppl   113.71\n",
      "-----------------------------------------------------------------------------------------\n",
      "| end of epoch  10 | time: 49.52s | valid loss  5.14 | valid ppl   170.69\n",
      "-----------------------------------------------------------------------------------------\n"
     ]
    }
   ],
   "source": [
    "best_val_loss = float(\"inf\")\n",
    "epochs = 10 # The number of epochs\n",
    "best_model = None\n",
    "\n",
    "for epoch in range(1, epochs + 1):\n",
    "    epoch_start_time = time.time()\n",
    "    train()\n",
    "    val_loss = evaluate(model, val_data)\n",
    "    print('-' * 89)\n",
    "    print('| end of epoch {:3d} | time: {:5.2f}s | valid loss {:5.2f} | '\n",
    "          'valid ppl {:8.2f}'.format(epoch, (time.time() - epoch_start_time),\n",
    "                                     val_loss, math.exp(val_loss)))\n",
    "    print('-' * 89)\n",
    "\n",
    "    if val_loss < best_val_loss:\n",
    "        best_val_loss = val_loss\n",
    "        best_model = model\n",
    "\n",
    "    scheduler.step()\n"
   ]
  },
  {
   "cell_type": "markdown",
   "metadata": {},
   "source": [
    "### Evaluate"
   ]
  },
  {
   "cell_type": "code",
   "execution_count": 22,
   "metadata": {},
   "outputs": [
    {
     "name": "stdout",
     "output_type": "stream",
     "text": [
      "=========================================================================================\n",
      "| End of training | test loss  5.06 | test ppl   157.49\n",
      "=========================================================================================\n"
     ]
    }
   ],
   "source": [
    "######################################################################\n",
    "# Evaluate the model with the test dataset\n",
    "# -------------------------------------\n",
    "#\n",
    "# Apply the best model to check the result with the test dataset.\n",
    "\n",
    "test_loss = evaluate(best_model, test_data)\n",
    "print('=' * 89)\n",
    "print('| End of training | test loss {:5.2f} | test ppl {:8.2f}'.format(\n",
    "    test_loss, math.exp(test_loss)))\n",
    "print('=' * 89)\n",
    "\n"
   ]
  },
  {
   "cell_type": "code",
   "execution_count": null,
   "metadata": {},
   "outputs": [],
   "source": []
  },
  {
   "cell_type": "code",
   "execution_count": null,
   "metadata": {},
   "outputs": [],
   "source": [
    "data_file='/global/cfs/cdirs/m3363/vayyar/cosmogan_data/raw_data/3d_data/dataset4_smoothing_const_params_128cube/norm_1_train_val.npy'                                                                             \n",
    "samples = np.load(data_file, mmap_mode='r')\n",
    "samples.shape"
   ]
  },
  {
   "cell_type": "code",
   "execution_count": null,
   "metadata": {},
   "outputs": [],
   "source": []
  },
  {
   "cell_type": "code",
   "execution_count": null,
   "metadata": {},
   "outputs": [],
   "source": []
  },
  {
   "cell_type": "code",
   "execution_count": null,
   "metadata": {},
   "outputs": [],
   "source": []
  },
  {
   "cell_type": "code",
   "execution_count": null,
   "metadata": {},
   "outputs": [],
   "source": []
  },
  {
   "cell_type": "code",
   "execution_count": null,
   "metadata": {},
   "outputs": [],
   "source": []
  }
 ],
 "metadata": {
  "kernelspec": {
   "display_name": "v3",
   "language": "python",
   "name": "v-jpt-3"
  },
  "language_info": {
   "codemirror_mode": {
    "name": "ipython",
    "version": 3
   },
   "file_extension": ".py",
   "mimetype": "text/x-python",
   "name": "python",
   "nbconvert_exporter": "python",
   "pygments_lexer": "ipython3",
   "version": "3.8.6"
  }
 },
 "nbformat": 4,
 "nbformat_minor": 4
}
